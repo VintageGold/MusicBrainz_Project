{
 "cells": [
  {
   "cell_type": "code",
   "execution_count": 1,
   "metadata": {},
   "outputs": [],
   "source": [
    "import glob \n",
    "import os\n",
    "from tqdm import tqdm\n",
    "\n",
    "covers = []"
   ]
  },
  {
   "cell_type": "code",
   "execution_count": 2,
   "metadata": {},
   "outputs": [
    {
     "name": "stderr",
     "output_type": "stream",
     "text": [
      "0it [00:00, ?it/s]\n"
     ]
    }
   ],
   "source": [
    "from pathlib import Path\n",
    "\n",
    "for path in tqdm(Path('/volumes/Multimedia/FLAC/').rglob('*.jpg')):\n",
    "    absolute = os.path.abspath(path)\n",
    "    covers.append(absolute)"
   ]
  },
  {
   "cell_type": "code",
   "execution_count": 3,
   "metadata": {},
   "outputs": [],
   "source": [
    "#len(os.listdir('/volumes/Multimedia/FLAC/'))"
   ]
  },
  {
   "cell_type": "markdown",
   "metadata": {},
   "source": [
    "# Setup"
   ]
  },
  {
   "cell_type": "code",
   "execution_count": 4,
   "metadata": {},
   "outputs": [],
   "source": [
    "import requests\n",
    "\n",
    "#!pip install musicbrainzngs\n",
    "#!pip install pyvis\n",
    "\n",
    "\n"
   ]
  },
  {
   "cell_type": "code",
   "execution_count": 5,
   "metadata": {},
   "outputs": [],
   "source": [
    "import musicbrainzngs"
   ]
  },
  {
   "cell_type": "code",
   "execution_count": 6,
   "metadata": {},
   "outputs": [],
   "source": [
    "auth = musicbrainzngs.auth(\"username\",\"password\")"
   ]
  },
  {
   "cell_type": "code",
   "execution_count": 7,
   "metadata": {},
   "outputs": [],
   "source": [
    "(musicbrainzngs.set_useragent(\"app\",\"Client_ID\", \n",
    "                              contact=\"email\"))"
   ]
  },
  {
   "cell_type": "markdown",
   "metadata": {},
   "source": [
    "# Get Results for Artist ID Search"
   ]
  },
  {
   "cell_type": "code",
   "execution_count": 8,
   "metadata": {},
   "outputs": [],
   "source": [
    "import pandas as pd"
   ]
  },
  {
   "cell_type": "code",
   "execution_count": 9,
   "metadata": {},
   "outputs": [],
   "source": [
    "#Need to modify to label the purpose: Producer, Performer, etc\n",
    "\n",
    "def get_artist_works(artist_id):\n",
    "\n",
    "    result_artist = (musicbrainzngs.get_artist_by_id(artist_id\n",
    "                                                     ,includes=['work-rels']))\n",
    "\n",
    "    df_artist_work_relation = pd.DataFrame()\n",
    "\n",
    "    df_artist_interate = pd.DataFrame(result_artist['artist']['work-relation-list'])\n",
    "\n",
    "    #Work ID - Loop by length of dataframe - work[0] on outer to get id\n",
    "    for x in range(len(df_artist_interate)):\n",
    "        df_iter = pd.DataFrame(result_artist['artist']['work-relation-list'][x])\n",
    "        df_artist_work_relation = pd.concat([df_artist_work_relation,df_iter])\n",
    "        \n",
    "    \n",
    "    product = df_artist_work_relation.reset_index()\n",
    "    \n",
    "    artist_work_id = product[product['index']==\"id\"]['work'].to_list()\n",
    "    artist_work_name = product[product['index']==\"title\"]['work'].to_list()\n",
    "    \n",
    "    \n",
    "    \n",
    "    return artist_work_id, artist_work_name, product"
   ]
  },
  {
   "cell_type": "code",
   "execution_count": 10,
   "metadata": {},
   "outputs": [],
   "source": [
    "David_Byrne = 'd4659efb-b8eb-4f03-95e9-f69ce35967a9'\n",
    "\n"
   ]
  },
  {
   "cell_type": "code",
   "execution_count": 11,
   "metadata": {},
   "outputs": [],
   "source": [
    "work_ids,work_names,_ = get_artist_works(David_Byrne)"
   ]
  },
  {
   "cell_type": "code",
   "execution_count": 12,
   "metadata": {
    "scrolled": true
   },
   "outputs": [
    {
     "name": "stderr",
     "output_type": "stream",
     "text": [
      "/Users/adamgoldstein/opt/anaconda3/lib/python3.7/site-packages/ipykernel_launcher.py:1: TqdmExperimentalWarning: Using `tqdm.autonotebook.tqdm` in notebook mode. Use `tqdm.tqdm` instead to force console mode (e.g. in jupyter console)\n",
      "  \"\"\"Entry point for launching an IPython kernel.\n"
     ]
    }
   ],
   "source": [
    "from tqdm.autonotebook import tqdm\n",
    "def establish_work_to_artist_relationships(work_ids,work_names):\n",
    "    \n",
    "    artist_names = []\n",
    "    \n",
    "    for index, ident in enumerate(work_ids):\n",
    "    \n",
    "        result_work = (pd.DataFrame(musicbrainzngs.get_work_by_id(ident\n",
    "                                                                  ,includes=['artist-rels'])))\n",
    "\n",
    "        works = pd.DataFrame(result_work['work']['artist-relation-list'])\n",
    "       \n",
    "        artists = []\n",
    "        \n",
    "        \n",
    "        for x in range(len(works)):\n",
    "\n",
    "            artists.append(works.iloc[x]['artist']['name'])\n",
    "            \n",
    "        \n",
    "\n",
    "    \n",
    "        artist_names.append({f'{work_names[index]}':artists})\n",
    "    \n",
    "    return artist_names\n",
    "    \n",
    "\n",
    "    #pd.DataFrame(result_work['work']['artist-relation-list'][5])#['artist']['id']\n",
    "    #Artist ID  - Loop by length of dataframe - artist[0] on outer to get id\n",
    "\n"
   ]
  },
  {
   "cell_type": "code",
   "execution_count": 13,
   "metadata": {},
   "outputs": [],
   "source": [
    "a = establish_work_to_artist_relationships(work_ids,work_names)"
   ]
  },
  {
   "cell_type": "code",
   "execution_count": 14,
   "metadata": {},
   "outputs": [
    {
     "data": {
      "text/plain": [
       "[{'Lazy': ['Ashley Beedle',\n",
       "   'David Byrne',\n",
       "   'Darren House',\n",
       "   'Rocky',\n",
       "   'Ashley Beedle',\n",
       "   'David Byrne',\n",
       "   'Darren House',\n",
       "   'Rocky']},\n",
       " {'Paper Emperor': ['David Byrne', '[traditional]']},\n",
       " {'The Last Emperor': ['David Byrne', 'Cong Su', '坂本龍一']},\n",
       " {'(Nothing but) Flowers': ['David Byrne',\n",
       "   'Chris Frantz',\n",
       "   'Jerry Harrison',\n",
       "   'Tina Weymouth',\n",
       "   'David Byrne']},\n",
       " {\"A Clean Break (Let's Work)\": ['David Byrne']}]"
      ]
     },
     "execution_count": 14,
     "metadata": {},
     "output_type": "execute_result"
    }
   ],
   "source": [
    "a[:5]"
   ]
  },
  {
   "cell_type": "code",
   "execution_count": 15,
   "metadata": {},
   "outputs": [],
   "source": [
    "#b = pd.DataFrame(a)\n",
    "\n",
    "#artist_names = b['Artist_Name'].to_list()\n",
    "\n"
   ]
  },
  {
   "cell_type": "code",
   "execution_count": 16,
   "metadata": {},
   "outputs": [],
   "source": [
    "#Visualize and takes care of duplicates for you\n",
    "#Add nodes and edges properly\n",
    "\n",
    "from pyvis.network import Network\n",
    "\n",
    "# importing networkx  \n",
    "import networkx as nx\n",
    "from networkx import algorithms\n",
    "from networkx import drawing,layout\n",
    "# importing matplotlib.pyplot \n",
    "import matplotlib.pyplot as plt \n",
    "\n",
    "def visualize_graph(starter,connections1,connections2,yes=True):\n",
    "\n",
    "    \n",
    "    g = nx.Graph(scale=0.01,bgcolor=\"#222222\")\n",
    "    pos = nx.spring_layout(g)\n",
    "    g.add_node(starter)\n",
    "\n",
    "    for node in connections1:\n",
    "\n",
    "        g.add_node(node,title=node)\n",
    "        g.add_node('David Byrne',title=starter)\n",
    "        \n",
    "        \n",
    "        g.add_edge(node,starter)\n",
    "    \n",
    "    for x in connections2:\n",
    "        for key, values in x.items():\n",
    "            for branch in values:\n",
    "                g.add_node(branch,title=branch)\n",
    "                g.add_edge(key,branch)\n",
    "            \n",
    "            \n",
    "        g.add_nodes_from([\n",
    "        (node, {\"color\": \"red\"}),\n",
    "        (branch, {\"color\": \"green\"}),\n",
    "        (starter, {\"color\": \"yellow\"}),\n",
    "        (key, {\"color\": \"blue\"})])\n",
    "    \n",
    "    nt = Network(\"2000px\", \"2000px\")\n",
    "    # populates the nodes and edges data structures\n",
    "    layout.spring_layout(g)\n",
    "    nt.from_nx(g)\n",
    "    nt.show(\"nx.html\")\n",
    "    \n",
    "    return g\n",
    "    #plt.savefig(\"filename.png\")\n",
    "    \n",
    "    \n",
    "    \n",
    "    g = nx.Graph() \n",
    "\n",
    "    #nx_graph = Network()\n",
    "    #nx_graph.nodes[1]['title'] = 'Number 1'\n",
    "    #nx_graph.nodes[1]['group'] = 1\n",
    "    #nx_graph.nodes[3]['title'] = 'I belong to a different group!'\n",
    "    #nx_graph.nodes[3]['group'] = 10\n",
    "    #nx_graph.add_nodes(connections1)\n",
    "    #nx_graph.add_node(21, size=15, title='couple', group=2)\n",
    "    #nx_graph.add_edges(connections1)\n",
    "    #nx_graph.add_node(25, size=25, label='lonely', title='lonely node', group=3)\n",
    "    #nt = Network(\"500px\", \"500px\")\n",
    "    # populates the nodes and edges data structures\n",
    "    #nt.from_nx(nx_graph)\n",
    "    #nt.show(\"nx.html\")\n"
   ]
  },
  {
   "cell_type": "code",
   "execution_count": 17,
   "metadata": {
    "scrolled": true
   },
   "outputs": [],
   "source": [
    "#Select html file to view graph.  Need to implement Notebook friendly\n",
    "g = visualize_graph(David_Byrne,work_names[:50],a,yes=False)"
   ]
  },
  {
   "cell_type": "markdown",
   "metadata": {},
   "source": [
    "# Don't Go Further"
   ]
  },
  {
   "cell_type": "markdown",
   "metadata": {},
   "source": [
    "from pyvis.network import Network\n",
    "import pandas as pd\n",
    "\n",
    "got_net = Network(height=\"750px\", width=\"100%\", bgcolor=\"#222222\", font_color=\"white\")\n",
    "\n",
    "# set the physics layout of the network\n",
    "got_net.barnes_hut()\n",
    "got_data = pd.read_csv(\"https://www.macalester.edu/~abeverid/data/stormofswords.csv\")\n",
    "\n",
    "sources = got_data['Source']\n",
    "targets = got_data['Target']\n",
    "weights = got_data['Weight']\n",
    "\n",
    "\n",
    "\n",
    "edge_data = zip(sources, targets, weights)\n",
    "\n",
    "for e in edge_data:\n",
    "    src = e[0]\n",
    "    dst = e[1]\n",
    "    w = e[2]\n",
    "\n",
    "    got_net.add_node(src, src, title=src)\n",
    "    got_net.add_node(dst, dst, title=dst)\n",
    "    got_net.add_edge(src, dst, value=w)\n",
    "\n",
    "neighbor_map = got_net.get_adj_list()\n",
    "\n",
    "print(neighbor_map)\n",
    "\n",
    "# add neighbor data to node hover data\n",
    "for node in got_net.nodes:\n",
    "    node[\"title\"] += \" Neighbors:<br>\" + \"<br>\".join(neighbor_map[node[\"id\"]])\n",
    "    node[\"value\"] = len(neighbor_map[node[\"id\"]])\n",
    "\n",
    "got_net.show(\"gameofthrones.html\")"
   ]
  },
  {
   "cell_type": "code",
   "execution_count": 22,
   "metadata": {},
   "outputs": [],
   "source": [
    "#Neighbors\n",
    "#for i in g.neighbors('David Byrne'):\n",
    "#    print(i)"
   ]
  },
  {
   "cell_type": "code",
   "execution_count": 23,
   "metadata": {},
   "outputs": [],
   "source": [
    "#Central Theme\n",
    "#nx.degree_centrality(g)"
   ]
  },
  {
   "cell_type": "code",
   "execution_count": 24,
   "metadata": {},
   "outputs": [],
   "source": [
    "#Shortest Path\n",
    "#centrality.betweenness_centrality(g)"
   ]
  },
  {
   "cell_type": "markdown",
   "metadata": {},
   "source": [
    "# Artist Specific"
   ]
  },
  {
   "cell_type": "code",
   "execution_count": null,
   "metadata": {
    "scrolled": true
   },
   "outputs": [],
   "source": [
    "result = musicbrainzngs.get_artist_by_id(artist_id,\n",
    "              includes=['release-groups'],release_type=['album'])\n",
    "\n",
    "\n",
    "#for release_group in result[\"artist\"][\"release-group-list\"]:\n",
    "#    print(\"{title} ({type})\".format(title=release_group[\"title\"],\n",
    "#                                    type=release_group[\"type\"]))"
   ]
  },
  {
   "cell_type": "code",
   "execution_count": null,
   "metadata": {},
   "outputs": [],
   "source": [
    "#result['artist']"
   ]
  },
  {
   "cell_type": "code",
   "execution_count": null,
   "metadata": {
    "scrolled": true
   },
   "outputs": [],
   "source": [
    "import pandas as pd\n",
    "df = pd.DataFrame(result[\"artist\"][\"release-group-list\"])\n",
    "df[\"first-release-date\"] = pd.to_datetime(df[\"first-release-date\"])  \n",
    "\n",
    "df[\"year\"] = pd.DatetimeIndex(df[\"first-release-date\"]).year\n",
    "df['month'] = pd.DatetimeIndex(df[\"first-release-date\"]).month\n",
    "df[\"day\"] = pd.DatetimeIndex(df[\"first-release-date\"]).day"
   ]
  },
  {
   "cell_type": "code",
   "execution_count": null,
   "metadata": {
    "scrolled": true
   },
   "outputs": [],
   "source": [
    "df"
   ]
  },
  {
   "cell_type": "code",
   "execution_count": null,
   "metadata": {},
   "outputs": [],
   "source": [
    "_ = df.groupby(\"year\")[\"id\"].count().plot(kind=\"bar\",title=\"Annual: Artist Releases\")"
   ]
  },
  {
   "cell_type": "markdown",
   "metadata": {},
   "source": [
    "# Get Album Cover Art"
   ]
  },
  {
   "cell_type": "code",
   "execution_count": null,
   "metadata": {},
   "outputs": [],
   "source": [
    "release_id = \"0dd5a352-6ae0-3e0d-bf18-bec30e27807d\"\n",
    "#\"7e643344-946e-4118-b934-6574695e68bf\"\n",
    "data = musicbrainzngs.get_release_group_image_list(release_id)\n",
    "\n",
    "\n",
    "for image in data[\"images\"]:\n",
    "    if \"Front\" in image[\"types\"] and image[\"approved\"]:\n",
    "        print(\"%s is an approved front image!\" % image[\"thumbnails\"][\"large\"])\n",
    "        image_link = image[\"thumbnails\"][\"large\"]\n",
    "        break\n",
    "        \n"
   ]
  },
  {
   "cell_type": "markdown",
   "metadata": {},
   "source": [
    "# Track Specific"
   ]
  },
  {
   "cell_type": "code",
   "execution_count": null,
   "metadata": {
    "scrolled": false
   },
   "outputs": [],
   "source": [
    "#musicbrainzngs.get_release_group_by_id(release_id, includes=['releases'])"
   ]
  },
  {
   "cell_type": "code",
   "execution_count": null,
   "metadata": {},
   "outputs": [],
   "source": [
    "#musicbrainzngs.get_release_by_id('f7345598-ef59-44e1-88d0-4b428977fda1',includes=['recordings'])"
   ]
  },
  {
   "cell_type": "code",
   "execution_count": null,
   "metadata": {},
   "outputs": [],
   "source": [
    "#musicbrainzngs.get_recording_by_id('ae077045-d684-466d-823e-b6f229733a5b',includes=['artist-credits'])"
   ]
  },
  {
   "cell_type": "code",
   "execution_count": null,
   "metadata": {},
   "outputs": [],
   "source": [
    "#response = requests.get(image_link, stream=True)\n",
    "#with open('img.png', 'wb') as out_file:\n",
    "#    shutil.copyfileobj(response.raw, out_file)"
   ]
  },
  {
   "cell_type": "code",
   "execution_count": null,
   "metadata": {},
   "outputs": [],
   "source": []
  }
 ],
 "metadata": {
  "kernelspec": {
   "display_name": "Python 3",
   "language": "python",
   "name": "python3"
  },
  "language_info": {
   "codemirror_mode": {
    "name": "ipython",
    "version": 3
   },
   "file_extension": ".py",
   "mimetype": "text/x-python",
   "name": "python",
   "nbconvert_exporter": "python",
   "pygments_lexer": "ipython3",
   "version": "3.7.6"
  }
 },
 "nbformat": 4,
 "nbformat_minor": 4
}
