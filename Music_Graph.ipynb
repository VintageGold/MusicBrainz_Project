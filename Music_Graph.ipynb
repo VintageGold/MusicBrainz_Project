{
 "cells": [
  {
   "cell_type": "code",
   "execution_count": 1,
   "metadata": {},
   "outputs": [],
   "source": [
    "import glob \n",
    "import os\n",
    "from tqdm import tqdm\n",
    "\n",
    "covers = []"
   ]
  },
  {
   "cell_type": "code",
   "execution_count": 2,
   "metadata": {},
   "outputs": [
    {
     "name": "stderr",
     "output_type": "stream",
     "text": [
      "0it [00:00, ?it/s]\n"
     ]
    }
   ],
   "source": [
    "from pathlib import Path\n",
    "\n",
    "for path in tqdm(Path('/volumes/Multimedia/FLAC/').rglob('*.jpg')):\n",
    "    absolute = os.path.abspath(path)\n",
    "    covers.append(absolute)"
   ]
  },
  {
   "cell_type": "code",
   "execution_count": 3,
   "metadata": {},
   "outputs": [],
   "source": [
    "#len(os.listdir('/volumes/Multimedia/FLAC/'))"
   ]
  },
  {
   "cell_type": "markdown",
   "metadata": {},
   "source": [
    "# Setup"
   ]
  },
  {
   "cell_type": "code",
   "execution_count": 300,
   "metadata": {},
   "outputs": [],
   "source": [
    "import requests\n",
    "\n",
    "#!pip install musicbrainzngs\n",
    "#!pip install pyvis\n",
    "\n",
    "\n"
   ]
  },
  {
   "cell_type": "code",
   "execution_count": 5,
   "metadata": {},
   "outputs": [],
   "source": [
    "import musicbrainzngs"
   ]
  },
  {
   "cell_type": "code",
   "execution_count": 6,
   "metadata": {},
   "outputs": [],
   "source": [
    "auth = musicbrainzngs.auth(\"username\",\"password\")"
   ]
  },
  {
   "cell_type": "code",
   "execution_count": 7,
   "metadata": {},
   "outputs": [],
   "source": [
    "(musicbrainzngs.set_useragent(\"app\",\"Client_ID\", \n",
    "                              contact=\"email\"))"
   ]
  },
  {
   "cell_type": "markdown",
   "metadata": {},
   "source": [
    "# Get Results for Artist ID Search"
   ]
  },
  {
   "cell_type": "code",
   "execution_count": 10,
   "metadata": {},
   "outputs": [],
   "source": [
    "import pandas as pd"
   ]
  },
  {
   "cell_type": "code",
   "execution_count": 112,
   "metadata": {},
   "outputs": [],
   "source": [
    "#Need to modify to label the purpose: Producer, Performer, etc\n",
    "\n",
    "def get_artist_works(artist_id):\n",
    "\n",
    "    result_artist = (musicbrainzngs.get_artist_by_id(artist_id\n",
    "                                                     ,includes=['work-rels']))\n",
    "\n",
    "    df_artist_work_relation = pd.DataFrame()\n",
    "\n",
    "    df_artist_interate = pd.DataFrame(result_artist['artist']['work-relation-list'])\n",
    "\n",
    "    #Work ID - Loop by length of dataframe - work[0] on outer to get id\n",
    "    for x in range(len(df_artist_interate)):\n",
    "        df_iter = pd.DataFrame(result_artist['artist']['work-relation-list'][x])\n",
    "        df_artist_work_relation = pd.concat([df_artist_work_relation,df_iter])\n",
    "        \n",
    "    \n",
    "    product = df_artist_work_relation.reset_index()\n",
    "    \n",
    "    artist_work_id = product[product['index']==\"id\"]['work'].to_list()\n",
    "    artist_work_name = product[product['index']==\"title\"]['work'].to_list()\n",
    "    \n",
    "    \n",
    "    \n",
    "    return artist_work_id, artist_work_name, product"
   ]
  },
  {
   "cell_type": "code",
   "execution_count": 127,
   "metadata": {},
   "outputs": [],
   "source": [
    "David_Byrne = 'd4659efb-b8eb-4f03-95e9-f69ce35967a9'\n",
    "\n"
   ]
  },
  {
   "cell_type": "code",
   "execution_count": 153,
   "metadata": {},
   "outputs": [],
   "source": [
    "work_ids,work_names,_ = get_artist_works(David_Byrne)"
   ]
  },
  {
   "cell_type": "code",
   "execution_count": 176,
   "metadata": {
    "scrolled": true
   },
   "outputs": [],
   "source": [
    "from tqdm.autonotebook import tqdm\n",
    "def establish_work_to_artist_relationships(work_ids):\n",
    "    \n",
    "    artist_names = []\n",
    "    \n",
    "    for ident in tqdm(work_ids):\n",
    "    \n",
    "        result_work = (pd.DataFrame(musicbrainzngs.get_work_by_id(ident\n",
    "                                                                  ,includes=['artist-rels'])))\n",
    "\n",
    "        works = pd.DataFrame(result_work['work']['artist-relation-list'])\n",
    "       \n",
    "\n",
    "        for x in range(len(works)):\n",
    "\n",
    "            artist_names.append({f'Work_ID': ident, 'Artist_Name': works.iloc[x]['artist']['name']})\n",
    "\n",
    "    \n",
    "    return artist_names\n",
    "    \n",
    "\n",
    "    #pd.DataFrame(result_work['work']['artist-relation-list'][5])#['artist']['id']\n",
    "    #Artist ID  - Loop by length of dataframe - artist[0] on outer to get id\n",
    "\n"
   ]
  },
  {
   "cell_type": "code",
   "execution_count": 177,
   "metadata": {},
   "outputs": [
    {
     "data": {
      "application/vnd.jupyter.widget-view+json": {
       "model_id": "57c68903103e43c9a2ba262f6100f4b2",
       "version_major": 2,
       "version_minor": 0
      },
      "text/plain": [
       "HBox(children=(FloatProgress(value=0.0, max=277.0), HTML(value='')))"
      ]
     },
     "metadata": {},
     "output_type": "display_data"
    },
    {
     "name": "stdout",
     "output_type": "stream",
     "text": [
      "\n"
     ]
    }
   ],
   "source": [
    "a = establish_work_to_artist_relationships(work_ids)"
   ]
  },
  {
   "cell_type": "code",
   "execution_count": 181,
   "metadata": {},
   "outputs": [],
   "source": [
    "b = pd.DataFrame(a)\n",
    "\n",
    "artist_names = b['Artist_Name'].to_list()\n",
    "\n"
   ]
  },
  {
   "cell_type": "code",
   "execution_count": 336,
   "metadata": {},
   "outputs": [],
   "source": [
    "#Visualize and takes care of duplicates for you\n",
    "#Add nodes and edges properly\n",
    "\n",
    "from pyvis.network import Network\n",
    "\n",
    "# importing networkx  \n",
    "import networkx as nx\n",
    "from networkx import algorithms\n",
    "# importing matplotlib.pyplot \n",
    "import matplotlib.pyplot as plt \n",
    "\n",
    "def visualize_graph(starter,connections1,connections2,yes=True):\n",
    "\n",
    "    \n",
    "\n",
    "    g = nx.Graph() \n",
    "    \n",
    "    g.add_node(starter)\n",
    "\n",
    "    for node in connections1:\n",
    "\n",
    "        g.add_edge(node,starter)\n",
    "        g.add_node(node)\n",
    " \n",
    "        for branch in connections2:\n",
    "            #g.add_edge(node,branch)\n",
    "            g.add_node(branch)\n",
    "\n",
    "    nt = Network(\"2000\", \"2000px\")\n",
    "    # populates the nodes and edges data structures\n",
    "    nt.from_nx(g)\n",
    "    nt.show(\"nx.html\")\n",
    "    \n",
    "    return g\n",
    "    #plt.savefig(\"filename.png\")"
   ]
  },
  {
   "cell_type": "code",
   "execution_count": 337,
   "metadata": {
    "scrolled": true
   },
   "outputs": [],
   "source": [
    "g = visualize_graph(David_Byrne,work_names[:50],artist_names[:50],yes=False)"
   ]
  },
  {
   "cell_type": "code",
   "execution_count": 295,
   "metadata": {},
   "outputs": [
    {
     "name": "stdout",
     "output_type": "stream",
     "text": [
      "Lazy\n",
      "Paper Emperor\n"
     ]
    }
   ],
   "source": [
    "#Neighbors\n",
    "for i in g.neighbors('David Byrne'):\n",
    "    print(i)"
   ]
  },
  {
   "cell_type": "code",
   "execution_count": 296,
   "metadata": {},
   "outputs": [
    {
     "data": {
      "text/plain": [
       "{'d4659efb-b8eb-4f03-95e9-f69ce35967a9': 0.5,\n",
       " 'Lazy': 0.75,\n",
       " 'Ashley Beedle': 0.5,\n",
       " 'David Byrne': 0.5,\n",
       " 'Paper Emperor': 0.75}"
      ]
     },
     "execution_count": 296,
     "metadata": {},
     "output_type": "execute_result"
    }
   ],
   "source": [
    "#Central Theme\n",
    "nx.degree_centrality(g)"
   ]
  },
  {
   "cell_type": "code",
   "execution_count": 298,
   "metadata": {},
   "outputs": [
    {
     "data": {
      "text/plain": [
       "{'d4659efb-b8eb-4f03-95e9-f69ce35967a9': 0.05555555555555555,\n",
       " 'Lazy': 0.25,\n",
       " 'Ashley Beedle': 0.05555555555555555,\n",
       " 'David Byrne': 0.05555555555555555,\n",
       " 'Paper Emperor': 0.25}"
      ]
     },
     "execution_count": 298,
     "metadata": {},
     "output_type": "execute_result"
    }
   ],
   "source": [
    "#Shortest Path\n",
    "centrality.betweenness_centrality(g)"
   ]
  },
  {
   "cell_type": "markdown",
   "metadata": {},
   "source": [
    "# Artist Specific"
   ]
  },
  {
   "cell_type": "code",
   "execution_count": 172,
   "metadata": {
    "scrolled": true
   },
   "outputs": [],
   "source": [
    "result = musicbrainzngs.get_artist_by_id(artist_id,\n",
    "              includes=['release-groups'],release_type=['album'])\n",
    "\n",
    "\n",
    "#for release_group in result[\"artist\"][\"release-group-list\"]:\n",
    "#    print(\"{title} ({type})\".format(title=release_group[\"title\"],\n",
    "#                                    type=release_group[\"type\"]))"
   ]
  },
  {
   "cell_type": "code",
   "execution_count": 173,
   "metadata": {},
   "outputs": [],
   "source": [
    "#result['artist']"
   ]
  },
  {
   "cell_type": "code",
   "execution_count": 174,
   "metadata": {
    "scrolled": true
   },
   "outputs": [],
   "source": [
    "import pandas as pd\n",
    "df = pd.DataFrame(result[\"artist\"][\"release-group-list\"])\n",
    "df[\"first-release-date\"] = pd.to_datetime(df[\"first-release-date\"])  \n",
    "\n",
    "df[\"year\"] = pd.DatetimeIndex(df[\"first-release-date\"]).year\n",
    "df['month'] = pd.DatetimeIndex(df[\"first-release-date\"]).month\n",
    "df[\"day\"] = pd.DatetimeIndex(df[\"first-release-date\"]).day"
   ]
  },
  {
   "cell_type": "code",
   "execution_count": 175,
   "metadata": {
    "scrolled": true
   },
   "outputs": [
    {
     "data": {
      "text/html": [
       "<div>\n",
       "<style scoped>\n",
       "    .dataframe tbody tr th:only-of-type {\n",
       "        vertical-align: middle;\n",
       "    }\n",
       "\n",
       "    .dataframe tbody tr th {\n",
       "        vertical-align: top;\n",
       "    }\n",
       "\n",
       "    .dataframe thead th {\n",
       "        text-align: right;\n",
       "    }\n",
       "</style>\n",
       "<table border=\"1\" class=\"dataframe\">\n",
       "  <thead>\n",
       "    <tr style=\"text-align: right;\">\n",
       "      <th></th>\n",
       "      <th>id</th>\n",
       "      <th>type</th>\n",
       "      <th>title</th>\n",
       "      <th>first-release-date</th>\n",
       "      <th>primary-type</th>\n",
       "      <th>secondary-type-list</th>\n",
       "      <th>year</th>\n",
       "      <th>month</th>\n",
       "      <th>day</th>\n",
       "    </tr>\n",
       "  </thead>\n",
       "  <tbody>\n",
       "    <tr>\n",
       "      <th>0</th>\n",
       "      <td>428cc768-268a-405e-ba51-0d7cf61b1fff</td>\n",
       "      <td>Album</td>\n",
       "      <td>My Life in the Bush of Ghosts</td>\n",
       "      <td>1980-01-01</td>\n",
       "      <td>Album</td>\n",
       "      <td>NaN</td>\n",
       "      <td>1980.0</td>\n",
       "      <td>1.0</td>\n",
       "      <td>1.0</td>\n",
       "    </tr>\n",
       "    <tr>\n",
       "      <th>1</th>\n",
       "      <td>0dd5a352-6ae0-3e0d-bf18-bec30e27807d</td>\n",
       "      <td>Album</td>\n",
       "      <td>My Life in the Bush of Ghosts</td>\n",
       "      <td>1981-02-01</td>\n",
       "      <td>Album</td>\n",
       "      <td>NaN</td>\n",
       "      <td>1981.0</td>\n",
       "      <td>2.0</td>\n",
       "      <td>1.0</td>\n",
       "    </tr>\n",
       "    <tr>\n",
       "      <th>2</th>\n",
       "      <td>e2b07309-c2db-3234-9e60-08780261d7aa</td>\n",
       "      <td>Album</td>\n",
       "      <td>Music for The Knee Plays</td>\n",
       "      <td>1985-05-01</td>\n",
       "      <td>Album</td>\n",
       "      <td>NaN</td>\n",
       "      <td>1985.0</td>\n",
       "      <td>5.0</td>\n",
       "      <td>1.0</td>\n",
       "    </tr>\n",
       "    <tr>\n",
       "      <th>3</th>\n",
       "      <td>46cc3982-01c5-3beb-bc5d-92bd4fa9c5e9</td>\n",
       "      <td>Album</td>\n",
       "      <td>Rei Momo</td>\n",
       "      <td>1989-09-25</td>\n",
       "      <td>Album</td>\n",
       "      <td>NaN</td>\n",
       "      <td>1989.0</td>\n",
       "      <td>9.0</td>\n",
       "      <td>25.0</td>\n",
       "    </tr>\n",
       "    <tr>\n",
       "      <th>4</th>\n",
       "      <td>251dd16b-8185-3a22-8643-3ae149e534eb</td>\n",
       "      <td>Album</td>\n",
       "      <td>The Forest</td>\n",
       "      <td>1991-06-11</td>\n",
       "      <td>Album</td>\n",
       "      <td>NaN</td>\n",
       "      <td>1991.0</td>\n",
       "      <td>6.0</td>\n",
       "      <td>11.0</td>\n",
       "    </tr>\n",
       "    <tr>\n",
       "      <th>5</th>\n",
       "      <td>d42414b8-7e96-3217-853d-464c823f9d12</td>\n",
       "      <td>Album</td>\n",
       "      <td>Uh‐oh</td>\n",
       "      <td>1992-03-03</td>\n",
       "      <td>Album</td>\n",
       "      <td>NaN</td>\n",
       "      <td>1992.0</td>\n",
       "      <td>3.0</td>\n",
       "      <td>3.0</td>\n",
       "    </tr>\n",
       "    <tr>\n",
       "      <th>6</th>\n",
       "      <td>ca81a477-364f-3ee1-9d6a-e26c86393196</td>\n",
       "      <td>Album</td>\n",
       "      <td>Byrne: High Life for Strings / Moran: Music Fr...</td>\n",
       "      <td>1992-01-01</td>\n",
       "      <td>Album</td>\n",
       "      <td>NaN</td>\n",
       "      <td>1992.0</td>\n",
       "      <td>1.0</td>\n",
       "      <td>1.0</td>\n",
       "    </tr>\n",
       "    <tr>\n",
       "      <th>7</th>\n",
       "      <td>da1e5df4-7253-3005-82b5-c05ab6f4077a</td>\n",
       "      <td>Album</td>\n",
       "      <td>David Byrne</td>\n",
       "      <td>1994-05-20</td>\n",
       "      <td>Album</td>\n",
       "      <td>NaN</td>\n",
       "      <td>1994.0</td>\n",
       "      <td>5.0</td>\n",
       "      <td>20.0</td>\n",
       "    </tr>\n",
       "    <tr>\n",
       "      <th>8</th>\n",
       "      <td>26f97fa5-bb03-390e-bda5-e581b884760d</td>\n",
       "      <td>Album</td>\n",
       "      <td>Feelings</td>\n",
       "      <td>1997-05-23</td>\n",
       "      <td>Album</td>\n",
       "      <td>NaN</td>\n",
       "      <td>1997.0</td>\n",
       "      <td>5.0</td>\n",
       "      <td>23.0</td>\n",
       "    </tr>\n",
       "    <tr>\n",
       "      <th>9</th>\n",
       "      <td>18946270-568d-3bd9-8907-2301ca3bf392</td>\n",
       "      <td>Album</td>\n",
       "      <td>Look Into the Eyeball</td>\n",
       "      <td>2001-04-26</td>\n",
       "      <td>Album</td>\n",
       "      <td>NaN</td>\n",
       "      <td>2001.0</td>\n",
       "      <td>4.0</td>\n",
       "      <td>26.0</td>\n",
       "    </tr>\n",
       "    <tr>\n",
       "      <th>10</th>\n",
       "      <td>9f90b984-4953-31e8-922c-41222096a9ef</td>\n",
       "      <td>Album</td>\n",
       "      <td>Lead Us Not Into Temptation</td>\n",
       "      <td>2003-09-15</td>\n",
       "      <td>Album</td>\n",
       "      <td>NaN</td>\n",
       "      <td>2003.0</td>\n",
       "      <td>9.0</td>\n",
       "      <td>15.0</td>\n",
       "    </tr>\n",
       "    <tr>\n",
       "      <th>11</th>\n",
       "      <td>d893e88a-4c3f-3292-8d9c-22086576e5f6</td>\n",
       "      <td>Album</td>\n",
       "      <td>Grown Backwards</td>\n",
       "      <td>2004-03-15</td>\n",
       "      <td>Album</td>\n",
       "      <td>NaN</td>\n",
       "      <td>2004.0</td>\n",
       "      <td>3.0</td>\n",
       "      <td>15.0</td>\n",
       "    </tr>\n",
       "    <tr>\n",
       "      <th>12</th>\n",
       "      <td>c9cf80df-db8f-34b4-9b86-012edfa6180f</td>\n",
       "      <td>Album</td>\n",
       "      <td>Everything That Happens Will Happen Today</td>\n",
       "      <td>2008-08-18</td>\n",
       "      <td>Album</td>\n",
       "      <td>NaN</td>\n",
       "      <td>2008.0</td>\n",
       "      <td>8.0</td>\n",
       "      <td>18.0</td>\n",
       "    </tr>\n",
       "    <tr>\n",
       "      <th>13</th>\n",
       "      <td>f626dd1d-85a6-45b5-bc05-df7919959f63</td>\n",
       "      <td>Album</td>\n",
       "      <td>Here Lies Love</td>\n",
       "      <td>2010-02-22</td>\n",
       "      <td>Album</td>\n",
       "      <td>NaN</td>\n",
       "      <td>2010.0</td>\n",
       "      <td>2.0</td>\n",
       "      <td>22.0</td>\n",
       "    </tr>\n",
       "    <tr>\n",
       "      <th>14</th>\n",
       "      <td>89185cb4-4efe-4324-afcf-e8d5eb1455ce</td>\n",
       "      <td>Album</td>\n",
       "      <td>Love This Giant</td>\n",
       "      <td>2012-09-10</td>\n",
       "      <td>Album</td>\n",
       "      <td>NaN</td>\n",
       "      <td>2012.0</td>\n",
       "      <td>9.0</td>\n",
       "      <td>10.0</td>\n",
       "    </tr>\n",
       "    <tr>\n",
       "      <th>15</th>\n",
       "      <td>3e7a3cd4-fb2c-40e8-b093-eaffe8c9cfdd</td>\n",
       "      <td>Album</td>\n",
       "      <td>American Utopia</td>\n",
       "      <td>2018-03-09</td>\n",
       "      <td>Album</td>\n",
       "      <td>NaN</td>\n",
       "      <td>2018.0</td>\n",
       "      <td>3.0</td>\n",
       "      <td>9.0</td>\n",
       "    </tr>\n",
       "    <tr>\n",
       "      <th>16</th>\n",
       "      <td>20804608-b798-3f5b-ae99-93697a63bb33</td>\n",
       "      <td>Album</td>\n",
       "      <td>This Sensuous World</td>\n",
       "      <td>NaT</td>\n",
       "      <td>Album</td>\n",
       "      <td>NaN</td>\n",
       "      <td>NaN</td>\n",
       "      <td>NaN</td>\n",
       "      <td>NaN</td>\n",
       "    </tr>\n",
       "    <tr>\n",
       "      <th>17</th>\n",
       "      <td>c007fb56-26a0-3802-85e8-75834b2d42bc</td>\n",
       "      <td>Compilation</td>\n",
       "      <td>The Visible Man</td>\n",
       "      <td>1997-08-19</td>\n",
       "      <td>Album</td>\n",
       "      <td>[Compilation]</td>\n",
       "      <td>1997.0</td>\n",
       "      <td>8.0</td>\n",
       "      <td>19.0</td>\n",
       "    </tr>\n",
       "    <tr>\n",
       "      <th>18</th>\n",
       "      <td>f851b3f8-72bb-3dc8-8e1b-abb2c1e868bd</td>\n",
       "      <td>Live</td>\n",
       "      <td>Unplugged</td>\n",
       "      <td>1992-01-01</td>\n",
       "      <td>Album</td>\n",
       "      <td>[Live]</td>\n",
       "      <td>1992.0</td>\n",
       "      <td>1.0</td>\n",
       "      <td>1.0</td>\n",
       "    </tr>\n",
       "    <tr>\n",
       "      <th>19</th>\n",
       "      <td>7109a2b8-d283-3df9-b431-7c464a565ad3</td>\n",
       "      <td>Live</td>\n",
       "      <td>Girls on My Mind</td>\n",
       "      <td>1994-01-01</td>\n",
       "      <td>Album</td>\n",
       "      <td>[Live]</td>\n",
       "      <td>1994.0</td>\n",
       "      <td>1.0</td>\n",
       "      <td>1.0</td>\n",
       "    </tr>\n",
       "    <tr>\n",
       "      <th>20</th>\n",
       "      <td>db63c035-cf6e-371b-9c48-5f7facdec6bf</td>\n",
       "      <td>Live</td>\n",
       "      <td>Live From Austin, Texas</td>\n",
       "      <td>2007-02-10</td>\n",
       "      <td>Album</td>\n",
       "      <td>[Live]</td>\n",
       "      <td>2007.0</td>\n",
       "      <td>2.0</td>\n",
       "      <td>10.0</td>\n",
       "    </tr>\n",
       "    <tr>\n",
       "      <th>21</th>\n",
       "      <td>f0002a89-ef8e-4d0a-9549-a8c8162edd08</td>\n",
       "      <td>Live</td>\n",
       "      <td>Live at Carnegie Hall</td>\n",
       "      <td>2012-03-13</td>\n",
       "      <td>Album</td>\n",
       "      <td>[Live]</td>\n",
       "      <td>2012.0</td>\n",
       "      <td>3.0</td>\n",
       "      <td>13.0</td>\n",
       "    </tr>\n",
       "    <tr>\n",
       "      <th>22</th>\n",
       "      <td>760ded10-4a72-4a04-98cb-5c568f2df00c</td>\n",
       "      <td>Live</td>\n",
       "      <td>Glenside PA July 20 1994 FM master</td>\n",
       "      <td>2015-07-29</td>\n",
       "      <td>Album</td>\n",
       "      <td>[Live]</td>\n",
       "      <td>2015.0</td>\n",
       "      <td>7.0</td>\n",
       "      <td>29.0</td>\n",
       "    </tr>\n",
       "    <tr>\n",
       "      <th>23</th>\n",
       "      <td>32cc2c4f-4ab8-4714-a867-5ffefefb848f</td>\n",
       "      <td>Live</td>\n",
       "      <td>American Utopia on Broadway (original cast rec...</td>\n",
       "      <td>2019-10-18</td>\n",
       "      <td>Album</td>\n",
       "      <td>[Live]</td>\n",
       "      <td>2019.0</td>\n",
       "      <td>10.0</td>\n",
       "      <td>18.0</td>\n",
       "    </tr>\n",
       "    <tr>\n",
       "      <th>24</th>\n",
       "      <td>e385dc2f-c6ce-4735-9a94-a79d2049f5ae</td>\n",
       "      <td>Live</td>\n",
       "      <td>American Utopia on Broadway (Original Cast Rec...</td>\n",
       "      <td>2019-10-25</td>\n",
       "      <td>Album</td>\n",
       "      <td>[Live]</td>\n",
       "      <td>2019.0</td>\n",
       "      <td>10.0</td>\n",
       "      <td>25.0</td>\n",
       "    </tr>\n",
       "  </tbody>\n",
       "</table>\n",
       "</div>"
      ],
      "text/plain": [
       "                                      id         type  \\\n",
       "0   428cc768-268a-405e-ba51-0d7cf61b1fff        Album   \n",
       "1   0dd5a352-6ae0-3e0d-bf18-bec30e27807d        Album   \n",
       "2   e2b07309-c2db-3234-9e60-08780261d7aa        Album   \n",
       "3   46cc3982-01c5-3beb-bc5d-92bd4fa9c5e9        Album   \n",
       "4   251dd16b-8185-3a22-8643-3ae149e534eb        Album   \n",
       "5   d42414b8-7e96-3217-853d-464c823f9d12        Album   \n",
       "6   ca81a477-364f-3ee1-9d6a-e26c86393196        Album   \n",
       "7   da1e5df4-7253-3005-82b5-c05ab6f4077a        Album   \n",
       "8   26f97fa5-bb03-390e-bda5-e581b884760d        Album   \n",
       "9   18946270-568d-3bd9-8907-2301ca3bf392        Album   \n",
       "10  9f90b984-4953-31e8-922c-41222096a9ef        Album   \n",
       "11  d893e88a-4c3f-3292-8d9c-22086576e5f6        Album   \n",
       "12  c9cf80df-db8f-34b4-9b86-012edfa6180f        Album   \n",
       "13  f626dd1d-85a6-45b5-bc05-df7919959f63        Album   \n",
       "14  89185cb4-4efe-4324-afcf-e8d5eb1455ce        Album   \n",
       "15  3e7a3cd4-fb2c-40e8-b093-eaffe8c9cfdd        Album   \n",
       "16  20804608-b798-3f5b-ae99-93697a63bb33        Album   \n",
       "17  c007fb56-26a0-3802-85e8-75834b2d42bc  Compilation   \n",
       "18  f851b3f8-72bb-3dc8-8e1b-abb2c1e868bd         Live   \n",
       "19  7109a2b8-d283-3df9-b431-7c464a565ad3         Live   \n",
       "20  db63c035-cf6e-371b-9c48-5f7facdec6bf         Live   \n",
       "21  f0002a89-ef8e-4d0a-9549-a8c8162edd08         Live   \n",
       "22  760ded10-4a72-4a04-98cb-5c568f2df00c         Live   \n",
       "23  32cc2c4f-4ab8-4714-a867-5ffefefb848f         Live   \n",
       "24  e385dc2f-c6ce-4735-9a94-a79d2049f5ae         Live   \n",
       "\n",
       "                                                title first-release-date  \\\n",
       "0                       My Life in the Bush of Ghosts         1980-01-01   \n",
       "1                       My Life in the Bush of Ghosts         1981-02-01   \n",
       "2                            Music for The Knee Plays         1985-05-01   \n",
       "3                                            Rei Momo         1989-09-25   \n",
       "4                                          The Forest         1991-06-11   \n",
       "5                                               Uh‐oh         1992-03-03   \n",
       "6   Byrne: High Life for Strings / Moran: Music Fr...         1992-01-01   \n",
       "7                                         David Byrne         1994-05-20   \n",
       "8                                            Feelings         1997-05-23   \n",
       "9                               Look Into the Eyeball         2001-04-26   \n",
       "10                        Lead Us Not Into Temptation         2003-09-15   \n",
       "11                                    Grown Backwards         2004-03-15   \n",
       "12          Everything That Happens Will Happen Today         2008-08-18   \n",
       "13                                     Here Lies Love         2010-02-22   \n",
       "14                                    Love This Giant         2012-09-10   \n",
       "15                                    American Utopia         2018-03-09   \n",
       "16                                This Sensuous World                NaT   \n",
       "17                                    The Visible Man         1997-08-19   \n",
       "18                                          Unplugged         1992-01-01   \n",
       "19                                   Girls on My Mind         1994-01-01   \n",
       "20                            Live From Austin, Texas         2007-02-10   \n",
       "21                              Live at Carnegie Hall         2012-03-13   \n",
       "22                 Glenside PA July 20 1994 FM master         2015-07-29   \n",
       "23  American Utopia on Broadway (original cast rec...         2019-10-18   \n",
       "24  American Utopia on Broadway (Original Cast Rec...         2019-10-25   \n",
       "\n",
       "   primary-type secondary-type-list    year  month   day  \n",
       "0         Album                 NaN  1980.0    1.0   1.0  \n",
       "1         Album                 NaN  1981.0    2.0   1.0  \n",
       "2         Album                 NaN  1985.0    5.0   1.0  \n",
       "3         Album                 NaN  1989.0    9.0  25.0  \n",
       "4         Album                 NaN  1991.0    6.0  11.0  \n",
       "5         Album                 NaN  1992.0    3.0   3.0  \n",
       "6         Album                 NaN  1992.0    1.0   1.0  \n",
       "7         Album                 NaN  1994.0    5.0  20.0  \n",
       "8         Album                 NaN  1997.0    5.0  23.0  \n",
       "9         Album                 NaN  2001.0    4.0  26.0  \n",
       "10        Album                 NaN  2003.0    9.0  15.0  \n",
       "11        Album                 NaN  2004.0    3.0  15.0  \n",
       "12        Album                 NaN  2008.0    8.0  18.0  \n",
       "13        Album                 NaN  2010.0    2.0  22.0  \n",
       "14        Album                 NaN  2012.0    9.0  10.0  \n",
       "15        Album                 NaN  2018.0    3.0   9.0  \n",
       "16        Album                 NaN     NaN    NaN   NaN  \n",
       "17        Album       [Compilation]  1997.0    8.0  19.0  \n",
       "18        Album              [Live]  1992.0    1.0   1.0  \n",
       "19        Album              [Live]  1994.0    1.0   1.0  \n",
       "20        Album              [Live]  2007.0    2.0  10.0  \n",
       "21        Album              [Live]  2012.0    3.0  13.0  \n",
       "22        Album              [Live]  2015.0    7.0  29.0  \n",
       "23        Album              [Live]  2019.0   10.0  18.0  \n",
       "24        Album              [Live]  2019.0   10.0  25.0  "
      ]
     },
     "execution_count": 175,
     "metadata": {},
     "output_type": "execute_result"
    }
   ],
   "source": [
    "df"
   ]
  },
  {
   "cell_type": "code",
   "execution_count": 176,
   "metadata": {},
   "outputs": [
    {
     "data": {
      "image/png": "[encoded data removed]",
      "text/plain": [
       "<Figure size 432x288 with 1 Axes>"
      ]
     },
     "metadata": {
      "needs_background": "light"
     },
     "output_type": "display_data"
    }
   ],
   "source": [
    "_ = df.groupby(\"year\")[\"id\"].count().plot(kind=\"bar\",title=\"Annual: Artist Releases\")"
   ]
  },
  {
   "cell_type": "markdown",
   "metadata": {},
   "source": [
    "# Get Album Cover Art"
   ]
  },
  {
   "cell_type": "code",
   "execution_count": 177,
   "metadata": {},
   "outputs": [
    {
     "name": "stdout",
     "output_type": "stream",
     "text": [
      "http://coverartarchive.org/release/f7345598-ef59-44e1-88d0-4b428977fda1/26900731558-500.jpg is an approved front image!\n"
     ]
    }
   ],
   "source": [
    "release_id = \"0dd5a352-6ae0-3e0d-bf18-bec30e27807d\"\n",
    "#\"7e643344-946e-4118-b934-6574695e68bf\"\n",
    "data = musicbrainzngs.get_release_group_image_list(release_id)\n",
    "\n",
    "\n",
    "for image in data[\"images\"]:\n",
    "    if \"Front\" in image[\"types\"] and image[\"approved\"]:\n",
    "        print(\"%s is an approved front image!\" % image[\"thumbnails\"][\"large\"])\n",
    "        image_link = image[\"thumbnails\"][\"large\"]\n",
    "        break\n",
    "        \n"
   ]
  },
  {
   "cell_type": "markdown",
   "metadata": {},
   "source": [
    "# Track Specific"
   ]
  },
  {
   "cell_type": "code",
   "execution_count": 128,
   "metadata": {
    "scrolled": false
   },
   "outputs": [],
   "source": [
    "#musicbrainzngs.get_release_group_by_id(release_id, includes=['releases'])"
   ]
  },
  {
   "cell_type": "code",
   "execution_count": 129,
   "metadata": {},
   "outputs": [],
   "source": [
    "#musicbrainzngs.get_release_by_id('f7345598-ef59-44e1-88d0-4b428977fda1',includes=['recordings'])"
   ]
  },
  {
   "cell_type": "code",
   "execution_count": 130,
   "metadata": {},
   "outputs": [],
   "source": [
    "#musicbrainzngs.get_recording_by_id('ae077045-d684-466d-823e-b6f229733a5b',includes=['artist-credits'])"
   ]
  },
  {
   "cell_type": "code",
   "execution_count": 23,
   "metadata": {},
   "outputs": [],
   "source": [
    "#response = requests.get(image_link, stream=True)\n",
    "#with open('img.png', 'wb') as out_file:\n",
    "#    shutil.copyfileobj(response.raw, out_file)"
   ]
  },
  {
   "cell_type": "code",
   "execution_count": null,
   "metadata": {},
   "outputs": [],
   "source": []
  }
 ],
 "metadata": {
  "kernelspec": {
   "display_name": "Python 3",
   "language": "python",
   "name": "python3"
  },
  "language_info": {
   "codemirror_mode": {
    "name": "ipython",
    "version": 3
   },
   "file_extension": ".py",
   "mimetype": "text/x-python",
   "name": "python",
   "nbconvert_exporter": "python",
   "pygments_lexer": "ipython3",
   "version": "3.7.6"
  }
 },
 "nbformat": 4,
 "nbformat_minor": 4
}
