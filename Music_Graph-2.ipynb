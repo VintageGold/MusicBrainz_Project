{
 "cells": [
  {
   "cell_type": "code",
   "execution_count": 1,
   "metadata": {},
   "outputs": [],
   "source": [
    "import glob \n",
    "import os\n",
    "from tqdm import tqdm\n",
    "\n",
    "covers = []"
   ]
  },
  {
   "cell_type": "code",
   "execution_count": 2,
   "metadata": {
    "scrolled": true
   },
   "outputs": [
    {
     "name": "stderr",
     "output_type": "stream",
     "text": [
      "0it [00:00, ?it/s]\n"
     ]
    }
   ],
   "source": [
    "from pathlib import Path\n",
    "\n",
    "for path in tqdm(Path('/volumes/G-DRIVE USB-C').rglob('*.jpg')):\n",
    "    absolute = os.path.abspath(path)\n",
    "    covers.append(absolute)"
   ]
  },
  {
   "cell_type": "code",
   "execution_count": 3,
   "metadata": {},
   "outputs": [
    {
     "data": {
      "text/plain": [
       "[]"
      ]
     },
     "execution_count": 3,
     "metadata": {},
     "output_type": "execute_result"
    }
   ],
   "source": [
    "covers"
   ]
  },
  {
   "cell_type": "code",
   "execution_count": 4,
   "metadata": {},
   "outputs": [],
   "source": [
    "#len(os.listdir('/volumes/Multimedia/FLAC/'))"
   ]
  },
  {
   "cell_type": "markdown",
   "metadata": {},
   "source": [
    "# Setup"
   ]
  },
  {
   "cell_type": "code",
   "execution_count": 5,
   "metadata": {},
   "outputs": [
    {
     "name": "stderr",
     "output_type": "stream",
     "text": [
      "/Users/adamgoldstein/opt/anaconda3/lib/python3.7/site-packages/ipykernel_launcher.py:4: TqdmExperimentalWarning: Using `tqdm.autonotebook.tqdm` in notebook mode. Use `tqdm.tqdm` instead to force console mode (e.g. in jupyter console)\n",
      "  after removing the cwd from sys.path.\n"
     ]
    }
   ],
   "source": [
    "import requests\n",
    "import musicbrainzngs\n",
    "import pandas as pd\n",
    "from tqdm.autonotebook import tqdm\n",
    "\n",
    "\n",
    "#!pip install musicbrainzngs\n",
    "#!pip install pyvis\n",
    "auth = musicbrainzngs.auth(\"username\",\"password\")\n",
    "\n",
    "(musicbrainzngs.set_useragent(\"app\",\"Client_ID\", \n",
    "                              contact=\"email\"))"
   ]
  },
  {
   "cell_type": "markdown",
   "metadata": {},
   "source": [
    "# Get Results for Artist ID Search"
   ]
  },
  {
   "cell_type": "code",
   "execution_count": 23,
   "metadata": {},
   "outputs": [],
   "source": [
    "#Need to modify to label the purpose: Producer, Performer, etc\n",
    "\n",
    "def get_artist_works(artist_id):\n",
    "\n",
    "    result_artist = (musicbrainzngs.get_artist_by_id(artist_id\n",
    "                                                     ,includes=['work-rels']))\n",
    "\n",
    "    df_artist_work_relation = pd.DataFrame()\n",
    "\n",
    "    df_artist_interate = pd.DataFrame(result_artist['artist']['work-relation-list'])\n",
    "\n",
    "    #Work ID - Loop by length of dataframe - work[0] on outer to get id\n",
    "    for x in range(len(df_artist_interate)):\n",
    "        df_iter = pd.DataFrame(result_artist['artist']['work-relation-list'][x])\n",
    "        df_artist_work_relation = pd.concat([df_artist_work_relation,df_iter])\n",
    "        \n",
    "    \n",
    "        product = df_artist_work_relation.reset_index()\n",
    "    \n",
    "        return product\n",
    "\n",
    "\n",
    "def establish_work_to_artist_relationships(work_ids,work_names):\n",
    "    \n",
    "    artist_names = pd.DataFrame()\n",
    "    \n",
    "    for ident in tqdm(work_ids):\n",
    "    \n",
    "        result_work = (pd.DataFrame(musicbrainzngs.get_work_by_id(ident\n",
    "                                                                  ,includes=['artist-rels'])))\n",
    "\n",
    "        works = pd.DataFrame(result_work['work']['artist-relation-list'])\n",
    "        \n",
    "        works['work_id'] = ident\n",
    "        \n",
    "        artist_names = pd.concat([artist_names,works])\n",
    "        \n",
    "    return artist_names.reset_index()\n",
    "        \n",
    "\n",
    "def rename_columns(df,column_name):\n",
    "\n",
    "    for col in df.columns:\n",
    "        df = df.rename(columns={col:f'{column_name}_{col}'})\n",
    "    return df"
   ]
  },
  {
   "cell_type": "code",
   "execution_count": 24,
   "metadata": {},
   "outputs": [],
   "source": [
    "David_Byrne = 'd4659efb-b8eb-4f03-95e9-f69ce35967a9'\n",
    "\n"
   ]
  },
  {
   "cell_type": "code",
   "execution_count": 25,
   "metadata": {},
   "outputs": [],
   "source": [
    "product = get_artist_works(David_Byrne)"
   ]
  },
  {
   "cell_type": "code",
   "execution_count": 26,
   "metadata": {},
   "outputs": [],
   "source": [
    "product = rename_columns(product,'Work')"
   ]
  },
  {
   "cell_type": "code",
   "execution_count": 27,
   "metadata": {},
   "outputs": [],
   "source": [
    "product_ids = product[product['Work_index']=='id']"
   ]
  },
  {
   "cell_type": "code",
   "execution_count": 28,
   "metadata": {
    "scrolled": true
   },
   "outputs": [
    {
     "data": {
      "application/vnd.jupyter.widget-view+json": {
       "model_id": "ec7b54a614584ac19094917ef85e0a75",
       "version_major": 2,
       "version_minor": 0
      },
      "text/plain": [
       "HBox(children=(FloatProgress(value=0.0, max=1.0), HTML(value='')))"
      ]
     },
     "metadata": {},
     "output_type": "display_data"
    },
    {
     "name": "stdout",
     "output_type": "stream",
     "text": [
      "\n"
     ]
    }
   ],
   "source": [
    "work_artist_relationships = (establish_work_to_artist_relationships(product.query('Work_index == \"id\"')['Work_work'].to_list()\n",
    "                                            ,product.query('Work_index == \"title\"')['Work_work'].to_list()))\n"
   ]
  },
  {
   "cell_type": "code",
   "execution_count": 29,
   "metadata": {},
   "outputs": [],
   "source": [
    "for key in work_artist_relationships['artist'][0].keys():\n",
    "    work_artist_relationships[key] = work_artist_relationships['artist'].apply(lambda x: x[key])"
   ]
  },
  {
   "cell_type": "code",
   "execution_count": 30,
   "metadata": {},
   "outputs": [],
   "source": [
    "work_artist_relationships = rename_columns(work_artist_relationships,'Artist')"
   ]
  },
  {
   "cell_type": "code",
   "execution_count": 31,
   "metadata": {},
   "outputs": [],
   "source": [
    "to_graph = work_artist_relationships.merge(product_ids,left_on='Artist_work_id',right_on='Work_work')"
   ]
  },
  {
   "cell_type": "code",
   "execution_count": 33,
   "metadata": {},
   "outputs": [
    {
     "data": {
      "text/html": [
       "<div>\n",
       "<style scoped>\n",
       "    .dataframe tbody tr th:only-of-type {\n",
       "        vertical-align: middle;\n",
       "    }\n",
       "\n",
       "    .dataframe tbody tr th {\n",
       "        vertical-align: top;\n",
       "    }\n",
       "\n",
       "    .dataframe thead th {\n",
       "        text-align: right;\n",
       "    }\n",
       "</style>\n",
       "<table border=\"1\" class=\"dataframe\">\n",
       "  <thead>\n",
       "    <tr style=\"text-align: right;\">\n",
       "      <th></th>\n",
       "      <th>Artist_index</th>\n",
       "      <th>Artist_type</th>\n",
       "      <th>Artist_type-id</th>\n",
       "      <th>Artist_target</th>\n",
       "      <th>Artist_direction</th>\n",
       "      <th>Artist_artist</th>\n",
       "      <th>Artist_target-credit</th>\n",
       "      <th>Artist_work_id</th>\n",
       "      <th>Artist_id</th>\n",
       "      <th>Artist_name</th>\n",
       "      <th>Artist_sort-name</th>\n",
       "      <th>Work_index</th>\n",
       "      <th>Work_type</th>\n",
       "      <th>Work_type-id</th>\n",
       "      <th>Work_target</th>\n",
       "      <th>Work_direction</th>\n",
       "      <th>Work_work</th>\n",
       "    </tr>\n",
       "  </thead>\n",
       "  <tbody>\n",
       "    <tr>\n",
       "      <th>0</th>\n",
       "      <td>0</td>\n",
       "      <td>Person</td>\n",
       "      <td>d3fd781c-5894-47e2-8c12-86cc0e2c8d08</td>\n",
       "      <td>e0d6cbe7-60cc-4d3d-b5a7-36db7b8b4931</td>\n",
       "      <td>backward</td>\n",
       "      <td>{'id': 'e0d6cbe7-60cc-4d3d-b5a7-36db7b8b4931',...</td>\n",
       "      <td>NaN</td>\n",
       "      <td>f4cf3653-f472-3de8-8a80-7b9fdb661ba8</td>\n",
       "      <td>e0d6cbe7-60cc-4d3d-b5a7-36db7b8b4931</td>\n",
       "      <td>Ashley Beedle</td>\n",
       "      <td>Beedle, Ashley</td>\n",
       "      <td>id</td>\n",
       "      <td>arranger</td>\n",
       "      <td>d3fd781c-5894-47e2-8c12-86cc0e2c8d08</td>\n",
       "      <td>f4cf3653-f472-3de8-8a80-7b9fdb661ba8</td>\n",
       "      <td>forward</td>\n",
       "      <td>f4cf3653-f472-3de8-8a80-7b9fdb661ba8</td>\n",
       "    </tr>\n",
       "    <tr>\n",
       "      <th>1</th>\n",
       "      <td>1</td>\n",
       "      <td>Person</td>\n",
       "      <td>d3fd781c-5894-47e2-8c12-86cc0e2c8d08</td>\n",
       "      <td>d4659efb-b8eb-4f03-95e9-f69ce35967a9</td>\n",
       "      <td>backward</td>\n",
       "      <td>{'id': 'd4659efb-b8eb-4f03-95e9-f69ce35967a9',...</td>\n",
       "      <td>NaN</td>\n",
       "      <td>f4cf3653-f472-3de8-8a80-7b9fdb661ba8</td>\n",
       "      <td>d4659efb-b8eb-4f03-95e9-f69ce35967a9</td>\n",
       "      <td>David Byrne</td>\n",
       "      <td>Byrne, David</td>\n",
       "      <td>id</td>\n",
       "      <td>arranger</td>\n",
       "      <td>d3fd781c-5894-47e2-8c12-86cc0e2c8d08</td>\n",
       "      <td>f4cf3653-f472-3de8-8a80-7b9fdb661ba8</td>\n",
       "      <td>forward</td>\n",
       "      <td>f4cf3653-f472-3de8-8a80-7b9fdb661ba8</td>\n",
       "    </tr>\n",
       "    <tr>\n",
       "      <th>2</th>\n",
       "      <td>2</td>\n",
       "      <td>Person</td>\n",
       "      <td>d3fd781c-5894-47e2-8c12-86cc0e2c8d08</td>\n",
       "      <td>114d409c-2a82-49f1-9df4-e937e50a5da4</td>\n",
       "      <td>backward</td>\n",
       "      <td>{'id': '114d409c-2a82-49f1-9df4-e937e50a5da4',...</td>\n",
       "      <td>NaN</td>\n",
       "      <td>f4cf3653-f472-3de8-8a80-7b9fdb661ba8</td>\n",
       "      <td>114d409c-2a82-49f1-9df4-e937e50a5da4</td>\n",
       "      <td>Darren House</td>\n",
       "      <td>House, Darren</td>\n",
       "      <td>id</td>\n",
       "      <td>arranger</td>\n",
       "      <td>d3fd781c-5894-47e2-8c12-86cc0e2c8d08</td>\n",
       "      <td>f4cf3653-f472-3de8-8a80-7b9fdb661ba8</td>\n",
       "      <td>forward</td>\n",
       "      <td>f4cf3653-f472-3de8-8a80-7b9fdb661ba8</td>\n",
       "    </tr>\n",
       "    <tr>\n",
       "      <th>3</th>\n",
       "      <td>3</td>\n",
       "      <td>Person</td>\n",
       "      <td>d3fd781c-5894-47e2-8c12-86cc0e2c8d08</td>\n",
       "      <td>33f8dbe6-9642-4d23-804f-1ed06987e34c</td>\n",
       "      <td>backward</td>\n",
       "      <td>{'id': '33f8dbe6-9642-4d23-804f-1ed06987e34c',...</td>\n",
       "      <td>Darren Rock</td>\n",
       "      <td>f4cf3653-f472-3de8-8a80-7b9fdb661ba8</td>\n",
       "      <td>33f8dbe6-9642-4d23-804f-1ed06987e34c</td>\n",
       "      <td>Rocky</td>\n",
       "      <td>Rocky</td>\n",
       "      <td>id</td>\n",
       "      <td>arranger</td>\n",
       "      <td>d3fd781c-5894-47e2-8c12-86cc0e2c8d08</td>\n",
       "      <td>f4cf3653-f472-3de8-8a80-7b9fdb661ba8</td>\n",
       "      <td>forward</td>\n",
       "      <td>f4cf3653-f472-3de8-8a80-7b9fdb661ba8</td>\n",
       "    </tr>\n",
       "    <tr>\n",
       "      <th>4</th>\n",
       "      <td>4</td>\n",
       "      <td>Person</td>\n",
       "      <td>a255bca1-b157-4518-9108-7b147dc3fc68</td>\n",
       "      <td>e0d6cbe7-60cc-4d3d-b5a7-36db7b8b4931</td>\n",
       "      <td>backward</td>\n",
       "      <td>{'id': 'e0d6cbe7-60cc-4d3d-b5a7-36db7b8b4931',...</td>\n",
       "      <td>NaN</td>\n",
       "      <td>f4cf3653-f472-3de8-8a80-7b9fdb661ba8</td>\n",
       "      <td>e0d6cbe7-60cc-4d3d-b5a7-36db7b8b4931</td>\n",
       "      <td>Ashley Beedle</td>\n",
       "      <td>Beedle, Ashley</td>\n",
       "      <td>id</td>\n",
       "      <td>arranger</td>\n",
       "      <td>d3fd781c-5894-47e2-8c12-86cc0e2c8d08</td>\n",
       "      <td>f4cf3653-f472-3de8-8a80-7b9fdb661ba8</td>\n",
       "      <td>forward</td>\n",
       "      <td>f4cf3653-f472-3de8-8a80-7b9fdb661ba8</td>\n",
       "    </tr>\n",
       "    <tr>\n",
       "      <th>5</th>\n",
       "      <td>5</td>\n",
       "      <td>Person</td>\n",
       "      <td>a255bca1-b157-4518-9108-7b147dc3fc68</td>\n",
       "      <td>d4659efb-b8eb-4f03-95e9-f69ce35967a9</td>\n",
       "      <td>backward</td>\n",
       "      <td>{'id': 'd4659efb-b8eb-4f03-95e9-f69ce35967a9',...</td>\n",
       "      <td>NaN</td>\n",
       "      <td>f4cf3653-f472-3de8-8a80-7b9fdb661ba8</td>\n",
       "      <td>d4659efb-b8eb-4f03-95e9-f69ce35967a9</td>\n",
       "      <td>David Byrne</td>\n",
       "      <td>Byrne, David</td>\n",
       "      <td>id</td>\n",
       "      <td>arranger</td>\n",
       "      <td>d3fd781c-5894-47e2-8c12-86cc0e2c8d08</td>\n",
       "      <td>f4cf3653-f472-3de8-8a80-7b9fdb661ba8</td>\n",
       "      <td>forward</td>\n",
       "      <td>f4cf3653-f472-3de8-8a80-7b9fdb661ba8</td>\n",
       "    </tr>\n",
       "    <tr>\n",
       "      <th>6</th>\n",
       "      <td>6</td>\n",
       "      <td>Person</td>\n",
       "      <td>a255bca1-b157-4518-9108-7b147dc3fc68</td>\n",
       "      <td>114d409c-2a82-49f1-9df4-e937e50a5da4</td>\n",
       "      <td>backward</td>\n",
       "      <td>{'id': '114d409c-2a82-49f1-9df4-e937e50a5da4',...</td>\n",
       "      <td>NaN</td>\n",
       "      <td>f4cf3653-f472-3de8-8a80-7b9fdb661ba8</td>\n",
       "      <td>114d409c-2a82-49f1-9df4-e937e50a5da4</td>\n",
       "      <td>Darren House</td>\n",
       "      <td>House, Darren</td>\n",
       "      <td>id</td>\n",
       "      <td>arranger</td>\n",
       "      <td>d3fd781c-5894-47e2-8c12-86cc0e2c8d08</td>\n",
       "      <td>f4cf3653-f472-3de8-8a80-7b9fdb661ba8</td>\n",
       "      <td>forward</td>\n",
       "      <td>f4cf3653-f472-3de8-8a80-7b9fdb661ba8</td>\n",
       "    </tr>\n",
       "    <tr>\n",
       "      <th>7</th>\n",
       "      <td>7</td>\n",
       "      <td>Person</td>\n",
       "      <td>a255bca1-b157-4518-9108-7b147dc3fc68</td>\n",
       "      <td>33f8dbe6-9642-4d23-804f-1ed06987e34c</td>\n",
       "      <td>backward</td>\n",
       "      <td>{'id': '33f8dbe6-9642-4d23-804f-1ed06987e34c',...</td>\n",
       "      <td>Darren Rock</td>\n",
       "      <td>f4cf3653-f472-3de8-8a80-7b9fdb661ba8</td>\n",
       "      <td>33f8dbe6-9642-4d23-804f-1ed06987e34c</td>\n",
       "      <td>Rocky</td>\n",
       "      <td>Rocky</td>\n",
       "      <td>id</td>\n",
       "      <td>arranger</td>\n",
       "      <td>d3fd781c-5894-47e2-8c12-86cc0e2c8d08</td>\n",
       "      <td>f4cf3653-f472-3de8-8a80-7b9fdb661ba8</td>\n",
       "      <td>forward</td>\n",
       "      <td>f4cf3653-f472-3de8-8a80-7b9fdb661ba8</td>\n",
       "    </tr>\n",
       "  </tbody>\n",
       "</table>\n",
       "</div>"
      ],
      "text/plain": [
       "   Artist_index Artist_type                        Artist_type-id  \\\n",
       "0             0      Person  d3fd781c-5894-47e2-8c12-86cc0e2c8d08   \n",
       "1             1      Person  d3fd781c-5894-47e2-8c12-86cc0e2c8d08   \n",
       "2             2      Person  d3fd781c-5894-47e2-8c12-86cc0e2c8d08   \n",
       "3             3      Person  d3fd781c-5894-47e2-8c12-86cc0e2c8d08   \n",
       "4             4      Person  a255bca1-b157-4518-9108-7b147dc3fc68   \n",
       "5             5      Person  a255bca1-b157-4518-9108-7b147dc3fc68   \n",
       "6             6      Person  a255bca1-b157-4518-9108-7b147dc3fc68   \n",
       "7             7      Person  a255bca1-b157-4518-9108-7b147dc3fc68   \n",
       "\n",
       "                          Artist_target Artist_direction  \\\n",
       "0  e0d6cbe7-60cc-4d3d-b5a7-36db7b8b4931         backward   \n",
       "1  d4659efb-b8eb-4f03-95e9-f69ce35967a9         backward   \n",
       "2  114d409c-2a82-49f1-9df4-e937e50a5da4         backward   \n",
       "3  33f8dbe6-9642-4d23-804f-1ed06987e34c         backward   \n",
       "4  e0d6cbe7-60cc-4d3d-b5a7-36db7b8b4931         backward   \n",
       "5  d4659efb-b8eb-4f03-95e9-f69ce35967a9         backward   \n",
       "6  114d409c-2a82-49f1-9df4-e937e50a5da4         backward   \n",
       "7  33f8dbe6-9642-4d23-804f-1ed06987e34c         backward   \n",
       "\n",
       "                                       Artist_artist Artist_target-credit  \\\n",
       "0  {'id': 'e0d6cbe7-60cc-4d3d-b5a7-36db7b8b4931',...                  NaN   \n",
       "1  {'id': 'd4659efb-b8eb-4f03-95e9-f69ce35967a9',...                  NaN   \n",
       "2  {'id': '114d409c-2a82-49f1-9df4-e937e50a5da4',...                  NaN   \n",
       "3  {'id': '33f8dbe6-9642-4d23-804f-1ed06987e34c',...          Darren Rock   \n",
       "4  {'id': 'e0d6cbe7-60cc-4d3d-b5a7-36db7b8b4931',...                  NaN   \n",
       "5  {'id': 'd4659efb-b8eb-4f03-95e9-f69ce35967a9',...                  NaN   \n",
       "6  {'id': '114d409c-2a82-49f1-9df4-e937e50a5da4',...                  NaN   \n",
       "7  {'id': '33f8dbe6-9642-4d23-804f-1ed06987e34c',...          Darren Rock   \n",
       "\n",
       "                         Artist_work_id                             Artist_id  \\\n",
       "0  f4cf3653-f472-3de8-8a80-7b9fdb661ba8  e0d6cbe7-60cc-4d3d-b5a7-36db7b8b4931   \n",
       "1  f4cf3653-f472-3de8-8a80-7b9fdb661ba8  d4659efb-b8eb-4f03-95e9-f69ce35967a9   \n",
       "2  f4cf3653-f472-3de8-8a80-7b9fdb661ba8  114d409c-2a82-49f1-9df4-e937e50a5da4   \n",
       "3  f4cf3653-f472-3de8-8a80-7b9fdb661ba8  33f8dbe6-9642-4d23-804f-1ed06987e34c   \n",
       "4  f4cf3653-f472-3de8-8a80-7b9fdb661ba8  e0d6cbe7-60cc-4d3d-b5a7-36db7b8b4931   \n",
       "5  f4cf3653-f472-3de8-8a80-7b9fdb661ba8  d4659efb-b8eb-4f03-95e9-f69ce35967a9   \n",
       "6  f4cf3653-f472-3de8-8a80-7b9fdb661ba8  114d409c-2a82-49f1-9df4-e937e50a5da4   \n",
       "7  f4cf3653-f472-3de8-8a80-7b9fdb661ba8  33f8dbe6-9642-4d23-804f-1ed06987e34c   \n",
       "\n",
       "     Artist_name Artist_sort-name Work_index Work_type  \\\n",
       "0  Ashley Beedle   Beedle, Ashley         id  arranger   \n",
       "1    David Byrne     Byrne, David         id  arranger   \n",
       "2   Darren House    House, Darren         id  arranger   \n",
       "3          Rocky            Rocky         id  arranger   \n",
       "4  Ashley Beedle   Beedle, Ashley         id  arranger   \n",
       "5    David Byrne     Byrne, David         id  arranger   \n",
       "6   Darren House    House, Darren         id  arranger   \n",
       "7          Rocky            Rocky         id  arranger   \n",
       "\n",
       "                           Work_type-id                           Work_target  \\\n",
       "0  d3fd781c-5894-47e2-8c12-86cc0e2c8d08  f4cf3653-f472-3de8-8a80-7b9fdb661ba8   \n",
       "1  d3fd781c-5894-47e2-8c12-86cc0e2c8d08  f4cf3653-f472-3de8-8a80-7b9fdb661ba8   \n",
       "2  d3fd781c-5894-47e2-8c12-86cc0e2c8d08  f4cf3653-f472-3de8-8a80-7b9fdb661ba8   \n",
       "3  d3fd781c-5894-47e2-8c12-86cc0e2c8d08  f4cf3653-f472-3de8-8a80-7b9fdb661ba8   \n",
       "4  d3fd781c-5894-47e2-8c12-86cc0e2c8d08  f4cf3653-f472-3de8-8a80-7b9fdb661ba8   \n",
       "5  d3fd781c-5894-47e2-8c12-86cc0e2c8d08  f4cf3653-f472-3de8-8a80-7b9fdb661ba8   \n",
       "6  d3fd781c-5894-47e2-8c12-86cc0e2c8d08  f4cf3653-f472-3de8-8a80-7b9fdb661ba8   \n",
       "7  d3fd781c-5894-47e2-8c12-86cc0e2c8d08  f4cf3653-f472-3de8-8a80-7b9fdb661ba8   \n",
       "\n",
       "  Work_direction                             Work_work  \n",
       "0        forward  f4cf3653-f472-3de8-8a80-7b9fdb661ba8  \n",
       "1        forward  f4cf3653-f472-3de8-8a80-7b9fdb661ba8  \n",
       "2        forward  f4cf3653-f472-3de8-8a80-7b9fdb661ba8  \n",
       "3        forward  f4cf3653-f472-3de8-8a80-7b9fdb661ba8  \n",
       "4        forward  f4cf3653-f472-3de8-8a80-7b9fdb661ba8  \n",
       "5        forward  f4cf3653-f472-3de8-8a80-7b9fdb661ba8  \n",
       "6        forward  f4cf3653-f472-3de8-8a80-7b9fdb661ba8  \n",
       "7        forward  f4cf3653-f472-3de8-8a80-7b9fdb661ba8  "
      ]
     },
     "execution_count": 33,
     "metadata": {},
     "output_type": "execute_result"
    }
   ],
   "source": [
    "to_graph"
   ]
  },
  {
   "cell_type": "code",
   "execution_count": 32,
   "metadata": {
    "scrolled": true
   },
   "outputs": [
    {
     "data": {
      "text/html": [
       "<div>\n",
       "<style scoped>\n",
       "    .dataframe tbody tr th:only-of-type {\n",
       "        vertical-align: middle;\n",
       "    }\n",
       "\n",
       "    .dataframe tbody tr th {\n",
       "        vertical-align: top;\n",
       "    }\n",
       "\n",
       "    .dataframe thead th {\n",
       "        text-align: right;\n",
       "    }\n",
       "</style>\n",
       "<table border=\"1\" class=\"dataframe\">\n",
       "  <thead>\n",
       "    <tr style=\"text-align: right;\">\n",
       "      <th></th>\n",
       "      <th>Artist_index</th>\n",
       "      <th>Artist_type</th>\n",
       "      <th>Artist_type-id</th>\n",
       "      <th>Artist_target</th>\n",
       "      <th>Artist_direction</th>\n",
       "      <th>Artist_artist</th>\n",
       "      <th>Artist_target-credit</th>\n",
       "      <th>Artist_work_id</th>\n",
       "      <th>Artist_id</th>\n",
       "      <th>Artist_name</th>\n",
       "      <th>Artist_sort-name</th>\n",
       "      <th>Work_index</th>\n",
       "      <th>Work_type</th>\n",
       "      <th>Work_type-id</th>\n",
       "      <th>Work_target</th>\n",
       "      <th>Work_direction</th>\n",
       "      <th>Work_work</th>\n",
       "    </tr>\n",
       "  </thead>\n",
       "  <tbody>\n",
       "    <tr>\n",
       "      <th>0</th>\n",
       "      <td>0</td>\n",
       "      <td>Person</td>\n",
       "      <td>d3fd781c-5894-47e2-8c12-86cc0e2c8d08</td>\n",
       "      <td>e0d6cbe7-60cc-4d3d-b5a7-36db7b8b4931</td>\n",
       "      <td>backward</td>\n",
       "      <td>{'id': 'e0d6cbe7-60cc-4d3d-b5a7-36db7b8b4931',...</td>\n",
       "      <td>NaN</td>\n",
       "      <td>f4cf3653-f472-3de8-8a80-7b9fdb661ba8</td>\n",
       "      <td>e0d6cbe7-60cc-4d3d-b5a7-36db7b8b4931</td>\n",
       "      <td>Ashley Beedle</td>\n",
       "      <td>Beedle, Ashley</td>\n",
       "      <td>id</td>\n",
       "      <td>arranger</td>\n",
       "      <td>d3fd781c-5894-47e2-8c12-86cc0e2c8d08</td>\n",
       "      <td>f4cf3653-f472-3de8-8a80-7b9fdb661ba8</td>\n",
       "      <td>forward</td>\n",
       "      <td>f4cf3653-f472-3de8-8a80-7b9fdb661ba8</td>\n",
       "    </tr>\n",
       "    <tr>\n",
       "      <th>4</th>\n",
       "      <td>4</td>\n",
       "      <td>Person</td>\n",
       "      <td>a255bca1-b157-4518-9108-7b147dc3fc68</td>\n",
       "      <td>e0d6cbe7-60cc-4d3d-b5a7-36db7b8b4931</td>\n",
       "      <td>backward</td>\n",
       "      <td>{'id': 'e0d6cbe7-60cc-4d3d-b5a7-36db7b8b4931',...</td>\n",
       "      <td>NaN</td>\n",
       "      <td>f4cf3653-f472-3de8-8a80-7b9fdb661ba8</td>\n",
       "      <td>e0d6cbe7-60cc-4d3d-b5a7-36db7b8b4931</td>\n",
       "      <td>Ashley Beedle</td>\n",
       "      <td>Beedle, Ashley</td>\n",
       "      <td>id</td>\n",
       "      <td>arranger</td>\n",
       "      <td>d3fd781c-5894-47e2-8c12-86cc0e2c8d08</td>\n",
       "      <td>f4cf3653-f472-3de8-8a80-7b9fdb661ba8</td>\n",
       "      <td>forward</td>\n",
       "      <td>f4cf3653-f472-3de8-8a80-7b9fdb661ba8</td>\n",
       "    </tr>\n",
       "  </tbody>\n",
       "</table>\n",
       "</div>"
      ],
      "text/plain": [
       "   Artist_index Artist_type                        Artist_type-id  \\\n",
       "0             0      Person  d3fd781c-5894-47e2-8c12-86cc0e2c8d08   \n",
       "4             4      Person  a255bca1-b157-4518-9108-7b147dc3fc68   \n",
       "\n",
       "                          Artist_target Artist_direction  \\\n",
       "0  e0d6cbe7-60cc-4d3d-b5a7-36db7b8b4931         backward   \n",
       "4  e0d6cbe7-60cc-4d3d-b5a7-36db7b8b4931         backward   \n",
       "\n",
       "                                       Artist_artist Artist_target-credit  \\\n",
       "0  {'id': 'e0d6cbe7-60cc-4d3d-b5a7-36db7b8b4931',...                  NaN   \n",
       "4  {'id': 'e0d6cbe7-60cc-4d3d-b5a7-36db7b8b4931',...                  NaN   \n",
       "\n",
       "                         Artist_work_id                             Artist_id  \\\n",
       "0  f4cf3653-f472-3de8-8a80-7b9fdb661ba8  e0d6cbe7-60cc-4d3d-b5a7-36db7b8b4931   \n",
       "4  f4cf3653-f472-3de8-8a80-7b9fdb661ba8  e0d6cbe7-60cc-4d3d-b5a7-36db7b8b4931   \n",
       "\n",
       "     Artist_name Artist_sort-name Work_index Work_type  \\\n",
       "0  Ashley Beedle   Beedle, Ashley         id  arranger   \n",
       "4  Ashley Beedle   Beedle, Ashley         id  arranger   \n",
       "\n",
       "                           Work_type-id                           Work_target  \\\n",
       "0  d3fd781c-5894-47e2-8c12-86cc0e2c8d08  f4cf3653-f472-3de8-8a80-7b9fdb661ba8   \n",
       "4  d3fd781c-5894-47e2-8c12-86cc0e2c8d08  f4cf3653-f472-3de8-8a80-7b9fdb661ba8   \n",
       "\n",
       "  Work_direction                             Work_work  \n",
       "0        forward  f4cf3653-f472-3de8-8a80-7b9fdb661ba8  \n",
       "4        forward  f4cf3653-f472-3de8-8a80-7b9fdb661ba8  "
      ]
     },
     "execution_count": 32,
     "metadata": {},
     "output_type": "execute_result"
    }
   ],
   "source": [
    "to_graph.query('Artist_name == \"Ashley Beedle\"')"
   ]
  },
  {
   "cell_type": "markdown",
   "metadata": {},
   "source": [
    "# Don't Go Further"
   ]
  },
  {
   "cell_type": "markdown",
   "metadata": {},
   "source": [
    "from pyvis.network import Network\n",
    "import pandas as pd\n",
    "\n",
    "got_net = Network(height=\"750px\", width=\"100%\", bgcolor=\"#222222\", font_color=\"white\")\n",
    "\n",
    "# set the physics layout of the network\n",
    "got_net.barnes_hut()\n",
    "got_data = pd.read_csv(\"https://www.macalester.edu/~abeverid/data/stormofswords.csv\")\n",
    "\n",
    "sources = got_data['Source']\n",
    "targets = got_data['Target']\n",
    "weights = got_data['Weight']\n",
    "\n",
    "\n",
    "\n",
    "edge_data = zip(sources, targets, weights)\n",
    "\n",
    "for e in edge_data:\n",
    "    src = e[0]\n",
    "    dst = e[1]\n",
    "    w = e[2]\n",
    "\n",
    "    got_net.add_node(src, src, title=src)\n",
    "    got_net.add_node(dst, dst, title=dst)\n",
    "    got_net.add_edge(src, dst, value=w)\n",
    "\n",
    "neighbor_map = got_net.get_adj_list()\n",
    "\n",
    "print(neighbor_map)\n",
    "\n",
    "# add neighbor data to node hover data\n",
    "for node in got_net.nodes:\n",
    "    node[\"title\"] += \" Neighbors:<br>\" + \"<br>\".join(neighbor_map[node[\"id\"]])\n",
    "    node[\"value\"] = len(neighbor_map[node[\"id\"]])\n",
    "\n",
    "got_net.show(\"gameofthrones.html\")"
   ]
  },
  {
   "cell_type": "code",
   "execution_count": null,
   "metadata": {},
   "outputs": [],
   "source": [
    "#Neighbors\n",
    "#for i in g.neighbors('David Byrne'):\n",
    "#    print(i)"
   ]
  },
  {
   "cell_type": "code",
   "execution_count": null,
   "metadata": {},
   "outputs": [],
   "source": [
    "#Central Theme\n",
    "#nx.degree_centrality(g)"
   ]
  },
  {
   "cell_type": "code",
   "execution_count": null,
   "metadata": {},
   "outputs": [],
   "source": [
    "#Shortest Path\n",
    "#centrality.betweenness_centrality(g)"
   ]
  },
  {
   "cell_type": "markdown",
   "metadata": {},
   "source": [
    "# Artist Specific"
   ]
  },
  {
   "cell_type": "code",
   "execution_count": null,
   "metadata": {
    "scrolled": true
   },
   "outputs": [],
   "source": [
    "result = musicbrainzngs.get_artist_by_id(artist_id,\n",
    "              includes=['release-groups'],release_type=['album'])\n",
    "\n",
    "\n",
    "#for release_group in result[\"artist\"][\"release-group-list\"]:\n",
    "#    print(\"{title} ({type})\".format(title=release_group[\"title\"],\n",
    "#                                    type=release_group[\"type\"]))"
   ]
  },
  {
   "cell_type": "code",
   "execution_count": null,
   "metadata": {},
   "outputs": [],
   "source": [
    "#result['artist']"
   ]
  },
  {
   "cell_type": "code",
   "execution_count": null,
   "metadata": {
    "scrolled": true
   },
   "outputs": [],
   "source": [
    "import pandas as pd\n",
    "df = pd.DataFrame(result[\"artist\"][\"release-group-list\"])\n",
    "df[\"first-release-date\"] = pd.to_datetime(df[\"first-release-date\"])  \n",
    "\n",
    "df[\"year\"] = pd.DatetimeIndex(df[\"first-release-date\"]).year\n",
    "df['month'] = pd.DatetimeIndex(df[\"first-release-date\"]).month\n",
    "df[\"day\"] = pd.DatetimeIndex(df[\"first-release-date\"]).day"
   ]
  },
  {
   "cell_type": "code",
   "execution_count": null,
   "metadata": {
    "scrolled": true
   },
   "outputs": [],
   "source": [
    "df"
   ]
  },
  {
   "cell_type": "code",
   "execution_count": null,
   "metadata": {},
   "outputs": [],
   "source": [
    "_ = df.groupby(\"year\")[\"id\"].count().plot(kind=\"bar\",title=\"Annual: Artist Releases\")"
   ]
  },
  {
   "cell_type": "markdown",
   "metadata": {},
   "source": [
    "# Get Album Cover Art"
   ]
  },
  {
   "cell_type": "code",
   "execution_count": null,
   "metadata": {},
   "outputs": [],
   "source": [
    "release_id = \"0dd5a352-6ae0-3e0d-bf18-bec30e27807d\"\n",
    "#\"7e643344-946e-4118-b934-6574695e68bf\"\n",
    "data = musicbrainzngs.get_release_group_image_list(release_id)\n",
    "\n",
    "\n",
    "for image in data[\"images\"]:\n",
    "    if \"Front\" in image[\"types\"] and image[\"approved\"]:\n",
    "        print(\"%s is an approved front image!\" % image[\"thumbnails\"][\"large\"])\n",
    "        image_link = image[\"thumbnails\"][\"large\"]\n",
    "        break\n",
    "        \n"
   ]
  },
  {
   "cell_type": "markdown",
   "metadata": {},
   "source": [
    "# Track Specific"
   ]
  },
  {
   "cell_type": "code",
   "execution_count": null,
   "metadata": {
    "scrolled": false
   },
   "outputs": [],
   "source": [
    "#musicbrainzngs.get_release_group_by_id(release_id, includes=['releases'])"
   ]
  },
  {
   "cell_type": "code",
   "execution_count": null,
   "metadata": {},
   "outputs": [],
   "source": [
    "#musicbrainzngs.get_release_by_id('f7345598-ef59-44e1-88d0-4b428977fda1',includes=['recordings'])"
   ]
  },
  {
   "cell_type": "code",
   "execution_count": null,
   "metadata": {},
   "outputs": [],
   "source": [
    "#musicbrainzngs.get_recording_by_id('ae077045-d684-466d-823e-b6f229733a5b',includes=['artist-credits'])"
   ]
  },
  {
   "cell_type": "code",
   "execution_count": null,
   "metadata": {},
   "outputs": [],
   "source": [
    "#response = requests.get(image_link, stream=True)\n",
    "#with open('img.png', 'wb') as out_file:\n",
    "#    shutil.copyfileobj(response.raw, out_file)"
   ]
  },
  {
   "cell_type": "code",
   "execution_count": null,
   "metadata": {},
   "outputs": [],
   "source": []
  }
 ],
 "metadata": {
  "kernelspec": {
   "display_name": "Python 3",
   "language": "python",
   "name": "python3"
  },
  "language_info": {
   "codemirror_mode": {
    "name": "ipython",
    "version": 3
   },
   "file_extension": ".py",
   "mimetype": "text/x-python",
   "name": "python",
   "nbconvert_exporter": "python",
   "pygments_lexer": "ipython3",
   "version": "3.7.6"
  }
 },
 "nbformat": 4,
 "nbformat_minor": 4
}
