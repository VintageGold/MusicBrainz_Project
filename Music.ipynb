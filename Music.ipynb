{
 "cells": [
  {
   "cell_type": "markdown",
   "metadata": {},
   "source": [
    "# Setup"
   ]
  },
  {
   "cell_type": "code",
   "execution_count": 1,
   "metadata": {},
   "outputs": [
    {
     "name": "stdout",
     "output_type": "stream",
     "text": [
      "Requirement already satisfied: musicbrainzngs in /Users/adamgoldstein/opt/anaconda3/lib/python3.7/site-packages (0.7.1)\r\n"
     ]
    }
   ],
   "source": [
    "import requests\n",
    "\n",
    "!pip install musicbrainzngs\n",
    "\n",
    "\n"
   ]
  },
  {
   "cell_type": "code",
   "execution_count": 2,
   "metadata": {},
   "outputs": [],
   "source": [
    "import musicbrainzngs"
   ]
  },
  {
   "cell_type": "code",
   "execution_count": 3,
   "metadata": {},
   "outputs": [],
   "source": [
    "auth = musicbrainzngs.auth('username','password')"
   ]
  },
  {
   "cell_type": "code",
   "execution_count": 4,
   "metadata": {},
   "outputs": [],
   "source": [
    "(musicbrainzngs.set_useragent('app','Client_ID', \n",
    "                              contact=\"email\"))"
   ]
  },
  {
   "cell_type": "markdown",
   "metadata": {},
   "source": [
    "# Get Results for Artist ID Search"
   ]
  },
  {
   "cell_type": "code",
   "execution_count": 5,
   "metadata": {},
   "outputs": [],
   "source": [
    "artist_id = \"c5c2ea1c-4bde-4f4d-bd0b-47b200bf99d6\"\n",
    "\n",
    "\n",
    "result = musicbrainzngs.get_artist_by_id(artist_id)"
   ]
  },
  {
   "cell_type": "code",
   "execution_count": 6,
   "metadata": {},
   "outputs": [
    {
     "data": {
      "text/plain": [
       "{'artist': {'id': 'c5c2ea1c-4bde-4f4d-bd0b-47b200bf99d6',\n",
       "  'type': 'Group',\n",
       "  'name': 'The xx',\n",
       "  'sort-name': 'xx, The',\n",
       "  'disambiguation': 'London UK three-piece',\n",
       "  'country': 'GB',\n",
       "  'area': {'id': '8a754a16-0027-3a29-b6d7-2b40ea0481ed',\n",
       "   'name': 'United Kingdom',\n",
       "   'sort-name': 'United Kingdom',\n",
       "   'iso-3166-1-code-list': ['GB']},\n",
       "  'begin-area': {'id': '54181a4b-9f77-4919-b8c5-f7af03fbbe17',\n",
       "   'name': 'Wandsworth',\n",
       "   'sort-name': 'Wandsworth',\n",
       "   'iso-3166-2-code-list': ['GB-WND']},\n",
       "  'life-span': {'begin': '2005'}}}"
      ]
     },
     "execution_count": 6,
     "metadata": {},
     "output_type": "execute_result"
    }
   ],
   "source": [
    "result"
   ]
  },
  {
   "cell_type": "code",
   "execution_count": 7,
   "metadata": {
    "scrolled": true
   },
   "outputs": [
    {
     "name": "stdout",
     "output_type": "stream",
     "text": [
      "xx (Album)\n",
      "Coexist (Album)\n",
      "I See You (Album)\n",
      "Remixes (Compilation)\n",
      "FACT Mix 70: The xx (Compilation)\n",
      "Islands (EP)\n",
      "Tour 7\" (EP)\n",
      "Hivern Remixes (EP)\n",
      "KEXP Session (EP)\n",
      "iTunes Live From SoHo (EP)\n",
      "iTunes Festival: London 2010 (EP)\n",
      "Innervisions Remixes (EP)\n"
     ]
    }
   ],
   "source": [
    "result = musicbrainzngs.get_artist_by_id(artist_id,\n",
    "              includes=[\"release-groups\"], release_type=[\"album\", \"ep\"])\n",
    "\n",
    "\n",
    "for release_group in result[\"artist\"][\"release-group-list\"]:\n",
    "    print(\"{title} ({type})\".format(title=release_group[\"title\"],\n",
    "                                    type=release_group[\"type\"]))"
   ]
  },
  {
   "cell_type": "code",
   "execution_count": 32,
   "metadata": {
    "scrolled": true
   },
   "outputs": [],
   "source": [
    "import pandas as pd\n",
    "df = pd.DataFrame(result['artist']['release-group-list'])\n",
    "df['first-release-date'] = pd.to_datetime(df[\"first-release-date\"])  \n",
    "\n",
    "df['year'] = pd.DatetimeIndex(df['first-release-date']).year\n",
    "df['month'] = pd.DatetimeIndex(df['first-release-date']).month\n",
    "df['day'] = pd.DatetimeIndex(df['first-release-date']).day"
   ]
  },
  {
   "cell_type": "code",
   "execution_count": 33,
   "metadata": {
    "scrolled": true
   },
   "outputs": [
    {
     "data": {
      "text/html": [
       "<div>\n",
       "<style scoped>\n",
       "    .dataframe tbody tr th:only-of-type {\n",
       "        vertical-align: middle;\n",
       "    }\n",
       "\n",
       "    .dataframe tbody tr th {\n",
       "        vertical-align: top;\n",
       "    }\n",
       "\n",
       "    .dataframe thead th {\n",
       "        text-align: right;\n",
       "    }\n",
       "</style>\n",
       "<table border=\"1\" class=\"dataframe\">\n",
       "  <thead>\n",
       "    <tr style=\"text-align: right;\">\n",
       "      <th></th>\n",
       "      <th>id</th>\n",
       "      <th>type</th>\n",
       "      <th>title</th>\n",
       "      <th>first-release-date</th>\n",
       "      <th>primary-type</th>\n",
       "      <th>secondary-type-list</th>\n",
       "      <th>year</th>\n",
       "      <th>month</th>\n",
       "      <th>day</th>\n",
       "    </tr>\n",
       "  </thead>\n",
       "  <tbody>\n",
       "    <tr>\n",
       "      <th>0</th>\n",
       "      <td>23355caf-a543-4b5f-80fe-449101868fc1</td>\n",
       "      <td>Album</td>\n",
       "      <td>xx</td>\n",
       "      <td>2009-08-14</td>\n",
       "      <td>Album</td>\n",
       "      <td>NaN</td>\n",
       "      <td>2009</td>\n",
       "      <td>8</td>\n",
       "      <td>14</td>\n",
       "    </tr>\n",
       "    <tr>\n",
       "      <th>1</th>\n",
       "      <td>a862b364-6b65-4b6f-945f-6f4f1258411a</td>\n",
       "      <td>Album</td>\n",
       "      <td>Coexist</td>\n",
       "      <td>2012-09-05</td>\n",
       "      <td>Album</td>\n",
       "      <td>NaN</td>\n",
       "      <td>2012</td>\n",
       "      <td>9</td>\n",
       "      <td>5</td>\n",
       "    </tr>\n",
       "    <tr>\n",
       "      <th>2</th>\n",
       "      <td>8f7e23d4-8b15-491f-b006-4a9ff5a41229</td>\n",
       "      <td>Album</td>\n",
       "      <td>I See You</td>\n",
       "      <td>2017-01-13</td>\n",
       "      <td>Album</td>\n",
       "      <td>NaN</td>\n",
       "      <td>2017</td>\n",
       "      <td>1</td>\n",
       "      <td>13</td>\n",
       "    </tr>\n",
       "    <tr>\n",
       "      <th>3</th>\n",
       "      <td>906bc6f7-caa9-43f0-a47b-9071c2717bd4</td>\n",
       "      <td>Compilation</td>\n",
       "      <td>Remixes</td>\n",
       "      <td>2018-01-19</td>\n",
       "      <td>Album</td>\n",
       "      <td>[Compilation]</td>\n",
       "      <td>2018</td>\n",
       "      <td>1</td>\n",
       "      <td>19</td>\n",
       "    </tr>\n",
       "    <tr>\n",
       "      <th>4</th>\n",
       "      <td>367c8244-5eb6-40a5-967f-c709303dd38d</td>\n",
       "      <td>Compilation</td>\n",
       "      <td>FACT Mix 70: The xx</td>\n",
       "      <td>2009-07-31</td>\n",
       "      <td>Album</td>\n",
       "      <td>[Compilation, DJ-mix]</td>\n",
       "      <td>2009</td>\n",
       "      <td>7</td>\n",
       "      <td>31</td>\n",
       "    </tr>\n",
       "    <tr>\n",
       "      <th>5</th>\n",
       "      <td>69580ac3-8b91-4aed-a6e0-1404add6f85f</td>\n",
       "      <td>EP</td>\n",
       "      <td>Islands</td>\n",
       "      <td>2009-10-26</td>\n",
       "      <td>EP</td>\n",
       "      <td>NaN</td>\n",
       "      <td>2009</td>\n",
       "      <td>10</td>\n",
       "      <td>26</td>\n",
       "    </tr>\n",
       "    <tr>\n",
       "      <th>6</th>\n",
       "      <td>d23eeff0-3f27-4d62-bbb8-5896537d06c8</td>\n",
       "      <td>EP</td>\n",
       "      <td>Tour 7\"</td>\n",
       "      <td>2010-01-01</td>\n",
       "      <td>EP</td>\n",
       "      <td>NaN</td>\n",
       "      <td>2010</td>\n",
       "      <td>1</td>\n",
       "      <td>1</td>\n",
       "    </tr>\n",
       "    <tr>\n",
       "      <th>7</th>\n",
       "      <td>edb5803e-f084-411f-a3e9-c9fd58aad280</td>\n",
       "      <td>EP</td>\n",
       "      <td>Hivern Remixes</td>\n",
       "      <td>2013-11-11</td>\n",
       "      <td>EP</td>\n",
       "      <td>NaN</td>\n",
       "      <td>2013</td>\n",
       "      <td>11</td>\n",
       "      <td>11</td>\n",
       "    </tr>\n",
       "    <tr>\n",
       "      <th>8</th>\n",
       "      <td>c5624cb4-ce3b-4d16-a3d1-a5f5ecb07e1d</td>\n",
       "      <td>EP</td>\n",
       "      <td>KEXP Session</td>\n",
       "      <td>2009-01-01</td>\n",
       "      <td>EP</td>\n",
       "      <td>[Live]</td>\n",
       "      <td>2009</td>\n",
       "      <td>1</td>\n",
       "      <td>1</td>\n",
       "    </tr>\n",
       "    <tr>\n",
       "      <th>9</th>\n",
       "      <td>181fb40d-1473-496c-a730-6bf8728427cd</td>\n",
       "      <td>EP</td>\n",
       "      <td>iTunes Live From SoHo</td>\n",
       "      <td>2010-03-09</td>\n",
       "      <td>EP</td>\n",
       "      <td>[Live]</td>\n",
       "      <td>2010</td>\n",
       "      <td>3</td>\n",
       "      <td>9</td>\n",
       "    </tr>\n",
       "    <tr>\n",
       "      <th>10</th>\n",
       "      <td>35966beb-7f8b-45eb-b610-0a460aef72a2</td>\n",
       "      <td>EP</td>\n",
       "      <td>iTunes Festival: London 2010</td>\n",
       "      <td>2010-07-20</td>\n",
       "      <td>EP</td>\n",
       "      <td>[Live]</td>\n",
       "      <td>2010</td>\n",
       "      <td>7</td>\n",
       "      <td>20</td>\n",
       "    </tr>\n",
       "    <tr>\n",
       "      <th>11</th>\n",
       "      <td>7e643344-946e-4118-b934-6574695e68bf</td>\n",
       "      <td>EP</td>\n",
       "      <td>Innervisions Remixes</td>\n",
       "      <td>2013-06-10</td>\n",
       "      <td>EP</td>\n",
       "      <td>[Remix]</td>\n",
       "      <td>2013</td>\n",
       "      <td>6</td>\n",
       "      <td>10</td>\n",
       "    </tr>\n",
       "  </tbody>\n",
       "</table>\n",
       "</div>"
      ],
      "text/plain": [
       "                                      id         type  \\\n",
       "0   23355caf-a543-4b5f-80fe-449101868fc1        Album   \n",
       "1   a862b364-6b65-4b6f-945f-6f4f1258411a        Album   \n",
       "2   8f7e23d4-8b15-491f-b006-4a9ff5a41229        Album   \n",
       "3   906bc6f7-caa9-43f0-a47b-9071c2717bd4  Compilation   \n",
       "4   367c8244-5eb6-40a5-967f-c709303dd38d  Compilation   \n",
       "5   69580ac3-8b91-4aed-a6e0-1404add6f85f           EP   \n",
       "6   d23eeff0-3f27-4d62-bbb8-5896537d06c8           EP   \n",
       "7   edb5803e-f084-411f-a3e9-c9fd58aad280           EP   \n",
       "8   c5624cb4-ce3b-4d16-a3d1-a5f5ecb07e1d           EP   \n",
       "9   181fb40d-1473-496c-a730-6bf8728427cd           EP   \n",
       "10  35966beb-7f8b-45eb-b610-0a460aef72a2           EP   \n",
       "11  7e643344-946e-4118-b934-6574695e68bf           EP   \n",
       "\n",
       "                           title first-release-date primary-type  \\\n",
       "0                             xx         2009-08-14        Album   \n",
       "1                        Coexist         2012-09-05        Album   \n",
       "2                      I See You         2017-01-13        Album   \n",
       "3                        Remixes         2018-01-19        Album   \n",
       "4            FACT Mix 70: The xx         2009-07-31        Album   \n",
       "5                        Islands         2009-10-26           EP   \n",
       "6                        Tour 7\"         2010-01-01           EP   \n",
       "7                 Hivern Remixes         2013-11-11           EP   \n",
       "8                   KEXP Session         2009-01-01           EP   \n",
       "9          iTunes Live From SoHo         2010-03-09           EP   \n",
       "10  iTunes Festival: London 2010         2010-07-20           EP   \n",
       "11          Innervisions Remixes         2013-06-10           EP   \n",
       "\n",
       "      secondary-type-list  year  month  day  \n",
       "0                     NaN  2009      8   14  \n",
       "1                     NaN  2012      9    5  \n",
       "2                     NaN  2017      1   13  \n",
       "3           [Compilation]  2018      1   19  \n",
       "4   [Compilation, DJ-mix]  2009      7   31  \n",
       "5                     NaN  2009     10   26  \n",
       "6                     NaN  2010      1    1  \n",
       "7                     NaN  2013     11   11  \n",
       "8                  [Live]  2009      1    1  \n",
       "9                  [Live]  2010      3    9  \n",
       "10                 [Live]  2010      7   20  \n",
       "11                [Remix]  2013      6   10  "
      ]
     },
     "execution_count": 33,
     "metadata": {},
     "output_type": "execute_result"
    }
   ],
   "source": [
    "df"
   ]
  },
  {
   "cell_type": "code",
   "execution_count": 49,
   "metadata": {},
   "outputs": [
    {
     "data": {
      "image/png": "[encoded data removed]",
      "text/plain": [
       "<Figure size 432x288 with 1 Axes>"
      ]
     },
     "metadata": {
      "needs_background": "light"
     },
     "output_type": "display_data"
    }
   ],
   "source": [
    "_ = df.groupby('year')['id'].count().plot(kind='bar',title='Annual: Artist Releases')"
   ]
  },
  {
   "cell_type": "markdown",
   "metadata": {},
   "source": [
    "# Get Album Cover Art"
   ]
  },
  {
   "cell_type": "code",
   "execution_count": 9,
   "metadata": {},
   "outputs": [
    {
     "name": "stdout",
     "output_type": "stream",
     "text": [
      "http://coverartarchive.org/release/54216929-a273-4e78-a10d-695ef3ab0c82/5199098961-500.jpg is an approved front image!\n"
     ]
    }
   ],
   "source": [
    "release_id = \"7e643344-946e-4118-b934-6574695e68bf\"\n",
    "data = musicbrainzngs.get_release_group_image_list(release_id)\n",
    "\n",
    "\n",
    "for image in data[\"images\"]:\n",
    "    if \"Front\" in image[\"types\"] and image[\"approved\"]:\n",
    "        print(\"%s is an approved front image!\" % image[\"thumbnails\"][\"large\"])\n",
    "        break"
   ]
  },
  {
   "cell_type": "markdown",
   "metadata": {},
   "source": []
  },
  {
   "cell_type": "code",
   "execution_count": null,
   "metadata": {},
   "outputs": [],
   "source": []
  },
  {
   "cell_type": "code",
   "execution_count": null,
   "metadata": {},
   "outputs": [],
   "source": []
  },
  {
   "cell_type": "code",
   "execution_count": null,
   "metadata": {},
   "outputs": [],
   "source": []
  }
 ],
 "metadata": {
  "kernelspec": {
   "display_name": "Python 3",
   "language": "python",
   "name": "python3"
  },
  "language_info": {
   "codemirror_mode": {
    "name": "ipython",
    "version": 3
   },
   "file_extension": ".py",
   "mimetype": "text/x-python",
   "name": "python",
   "nbconvert_exporter": "python",
   "pygments_lexer": "ipython3",
   "version": "3.7.6"
  }
 },
 "nbformat": 4,
 "nbformat_minor": 4
}
