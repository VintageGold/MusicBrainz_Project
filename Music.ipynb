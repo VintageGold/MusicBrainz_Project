{
 "cells": [
  {
   "cell_type": "markdown",
   "metadata": {},
   "source": [
    "# Setup"
   ]
  },
  {
   "cell_type": "code",
   "execution_count": 1,
   "metadata": {},
   "outputs": [
    {
     "name": "stdout",
     "output_type": "stream",
     "text": [
      "Requirement already satisfied: musicbrainzngs in /Users/adamgoldstein/opt/anaconda3/lib/python3.7/site-packages (0.7.1)\r\n"
     ]
    }
   ],
   "source": [
    "import requests\n",
    "\n",
    "!pip install musicbrainzngs\n",
    "\n",
    "\n"
   ]
  },
  {
   "cell_type": "code",
   "execution_count": 2,
   "metadata": {},
   "outputs": [],
   "source": [
    "import musicbrainzngs"
   ]
  },
  {
   "cell_type": "code",
   "execution_count": 3,
   "metadata": {},
   "outputs": [],
   "source": [
    "auth = musicbrainzngs.auth('username','password')"
   ]
  },
  {
   "cell_type": "code",
   "execution_count": 4,
   "metadata": {},
   "outputs": [],
   "source": [
    "(musicbrainzngs.set_useragent('app','Client_ID', \n",
    "                              contact=\"email\"))"
   ]
  },
  {
   "cell_type": "markdown",
   "metadata": {},
   "source": [
    "# Get Results for Artist ID Search"
   ]
  },
  {
   "cell_type": "code",
   "execution_count": 5,
   "metadata": {},
   "outputs": [],
   "source": [
    "artist_id = \"c5c2ea1c-4bde-4f4d-bd0b-47b200bf99d6\"\n",
    "\n",
    "\n",
    "result = musicbrainzngs.get_artist_by_id(artist_id)"
   ]
  },
  {
   "cell_type": "code",
   "execution_count": 6,
   "metadata": {},
   "outputs": [
    {
     "data": {
      "text/plain": [
       "{'artist': {'id': 'c5c2ea1c-4bde-4f4d-bd0b-47b200bf99d6',\n",
       "  'type': 'Group',\n",
       "  'name': 'The xx',\n",
       "  'sort-name': 'xx, The',\n",
       "  'disambiguation': 'London UK three-piece',\n",
       "  'country': 'GB',\n",
       "  'area': {'id': '8a754a16-0027-3a29-b6d7-2b40ea0481ed',\n",
       "   'name': 'United Kingdom',\n",
       "   'sort-name': 'United Kingdom',\n",
       "   'iso-3166-1-code-list': ['GB']},\n",
       "  'begin-area': {'id': '54181a4b-9f77-4919-b8c5-f7af03fbbe17',\n",
       "   'name': 'Wandsworth',\n",
       "   'sort-name': 'Wandsworth',\n",
       "   'iso-3166-2-code-list': ['GB-WND']},\n",
       "  'life-span': {'begin': '2005'}}}"
      ]
     },
     "execution_count": 6,
     "metadata": {},
     "output_type": "execute_result"
    }
   ],
   "source": [
    "result"
   ]
  },
  {
   "cell_type": "code",
   "execution_count": 7,
   "metadata": {
    "scrolled": true
   },
   "outputs": [
    {
     "name": "stdout",
     "output_type": "stream",
     "text": [
      "xx (Album)\n",
      "Coexist (Album)\n",
      "I See You (Album)\n",
      "Remixes (Compilation)\n",
      "FACT Mix 70: The xx (Compilation)\n",
      "Islands (EP)\n",
      "Tour 7\" (EP)\n",
      "Hivern Remixes (EP)\n",
      "KEXP Session (EP)\n",
      "iTunes Live From SoHo (EP)\n",
      "iTunes Festival: London 2010 (EP)\n",
      "Innervisions Remixes (EP)\n"
     ]
    }
   ],
   "source": [
    "result = musicbrainzngs.get_artist_by_id(artist_id,\n",
    "              includes=[\"release-groups\"], release_type=[\"album\", \"ep\"])\n",
    "\n",
    "\n",
    "for release_group in result[\"artist\"][\"release-group-list\"]:\n",
    "    print(\"{title} ({type})\".format(title=release_group[\"title\"],\n",
    "                                    type=release_group[\"type\"]))"
   ]
  },
  {
   "cell_type": "code",
   "execution_count": 8,
   "metadata": {
    "scrolled": true
   },
   "outputs": [
    {
     "data": {
      "text/plain": [
       "{'artist': {'id': 'c5c2ea1c-4bde-4f4d-bd0b-47b200bf99d6',\n",
       "  'type': 'Group',\n",
       "  'name': 'The xx',\n",
       "  'sort-name': 'xx, The',\n",
       "  'disambiguation': 'London UK three-piece',\n",
       "  'country': 'GB',\n",
       "  'area': {'id': '8a754a16-0027-3a29-b6d7-2b40ea0481ed',\n",
       "   'name': 'United Kingdom',\n",
       "   'sort-name': 'United Kingdom',\n",
       "   'iso-3166-1-code-list': ['GB']},\n",
       "  'begin-area': {'id': '54181a4b-9f77-4919-b8c5-f7af03fbbe17',\n",
       "   'name': 'Wandsworth',\n",
       "   'sort-name': 'Wandsworth',\n",
       "   'iso-3166-2-code-list': ['GB-WND']},\n",
       "  'life-span': {'begin': '2005'},\n",
       "  'release-group-list': [{'id': '23355caf-a543-4b5f-80fe-449101868fc1',\n",
       "    'type': 'Album',\n",
       "    'title': 'xx',\n",
       "    'first-release-date': '2009-08-14',\n",
       "    'primary-type': 'Album'},\n",
       "   {'id': 'a862b364-6b65-4b6f-945f-6f4f1258411a',\n",
       "    'type': 'Album',\n",
       "    'title': 'Coexist',\n",
       "    'first-release-date': '2012-09-05',\n",
       "    'primary-type': 'Album'},\n",
       "   {'id': '8f7e23d4-8b15-491f-b006-4a9ff5a41229',\n",
       "    'type': 'Album',\n",
       "    'title': 'I See You',\n",
       "    'first-release-date': '2017-01-13',\n",
       "    'primary-type': 'Album'},\n",
       "   {'id': '906bc6f7-caa9-43f0-a47b-9071c2717bd4',\n",
       "    'type': 'Compilation',\n",
       "    'title': 'Remixes',\n",
       "    'first-release-date': '2018-01-19',\n",
       "    'primary-type': 'Album',\n",
       "    'secondary-type-list': ['Compilation']},\n",
       "   {'id': '367c8244-5eb6-40a5-967f-c709303dd38d',\n",
       "    'type': 'Compilation',\n",
       "    'title': 'FACT Mix 70: The xx',\n",
       "    'first-release-date': '2009-07-31',\n",
       "    'primary-type': 'Album',\n",
       "    'secondary-type-list': ['Compilation', 'DJ-mix']},\n",
       "   {'id': '69580ac3-8b91-4aed-a6e0-1404add6f85f',\n",
       "    'type': 'EP',\n",
       "    'title': 'Islands',\n",
       "    'first-release-date': '2009-10-26',\n",
       "    'primary-type': 'EP'},\n",
       "   {'id': 'd23eeff0-3f27-4d62-bbb8-5896537d06c8',\n",
       "    'type': 'EP',\n",
       "    'title': 'Tour 7\"',\n",
       "    'first-release-date': '2010',\n",
       "    'primary-type': 'EP'},\n",
       "   {'id': 'edb5803e-f084-411f-a3e9-c9fd58aad280',\n",
       "    'type': 'EP',\n",
       "    'title': 'Hivern Remixes',\n",
       "    'first-release-date': '2013-11-11',\n",
       "    'primary-type': 'EP'},\n",
       "   {'id': 'c5624cb4-ce3b-4d16-a3d1-a5f5ecb07e1d',\n",
       "    'type': 'EP',\n",
       "    'title': 'KEXP Session',\n",
       "    'first-release-date': '2009',\n",
       "    'primary-type': 'EP',\n",
       "    'secondary-type-list': ['Live']},\n",
       "   {'id': '181fb40d-1473-496c-a730-6bf8728427cd',\n",
       "    'type': 'EP',\n",
       "    'title': 'iTunes Live From SoHo',\n",
       "    'first-release-date': '2010-03-09',\n",
       "    'primary-type': 'EP',\n",
       "    'secondary-type-list': ['Live']},\n",
       "   {'id': '35966beb-7f8b-45eb-b610-0a460aef72a2',\n",
       "    'type': 'EP',\n",
       "    'title': 'iTunes Festival: London 2010',\n",
       "    'first-release-date': '2010-07-20',\n",
       "    'primary-type': 'EP',\n",
       "    'secondary-type-list': ['Live']},\n",
       "   {'id': '7e643344-946e-4118-b934-6574695e68bf',\n",
       "    'type': 'EP',\n",
       "    'title': 'Innervisions Remixes',\n",
       "    'first-release-date': '2013-06-10',\n",
       "    'primary-type': 'EP',\n",
       "    'secondary-type-list': ['Remix']}],\n",
       "  'release-group-count': 12}}"
      ]
     },
     "execution_count": 8,
     "metadata": {},
     "output_type": "execute_result"
    }
   ],
   "source": [
    "import pandas as pd\n",
    "result"
   ]
  },
  {
   "cell_type": "markdown",
   "metadata": {},
   "source": [
    "# Get Album Cover Art"
   ]
  },
  {
   "cell_type": "code",
   "execution_count": 9,
   "metadata": {},
   "outputs": [
    {
     "name": "stdout",
     "output_type": "stream",
     "text": [
      "http://coverartarchive.org/release/54216929-a273-4e78-a10d-695ef3ab0c82/5199098961-500.jpg is an approved front image!\n"
     ]
    }
   ],
   "source": [
    "release_id = \"7e643344-946e-4118-b934-6574695e68bf\"\n",
    "data = musicbrainzngs.get_release_group_image_list(release_id)\n",
    "\n",
    "\n",
    "for image in data[\"images\"]:\n",
    "    if \"Front\" in image[\"types\"] and image[\"approved\"]:\n",
    "        print(\"%s is an approved front image!\" % image[\"thumbnails\"][\"large\"])\n",
    "        break"
   ]
  },
  {
   "cell_type": "markdown",
   "metadata": {},
   "source": []
  },
  {
   "cell_type": "code",
   "execution_count": null,
   "metadata": {},
   "outputs": [],
   "source": []
  },
  {
   "cell_type": "code",
   "execution_count": null,
   "metadata": {},
   "outputs": [],
   "source": []
  },
  {
   "cell_type": "code",
   "execution_count": null,
   "metadata": {},
   "outputs": [],
   "source": []
  }
 ],
 "metadata": {
  "kernelspec": {
   "display_name": "Python 3",
   "language": "python",
   "name": "python3"
  },
  "language_info": {
   "codemirror_mode": {
    "name": "ipython",
    "version": 3
   },
   "file_extension": ".py",
   "mimetype": "text/x-python",
   "name": "python",
   "nbconvert_exporter": "python",
   "pygments_lexer": "ipython3",
   "version": "3.7.6"
  }
 },
 "nbformat": 4,
 "nbformat_minor": 4
}
